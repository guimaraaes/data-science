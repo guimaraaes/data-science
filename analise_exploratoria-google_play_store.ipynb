{
  "nbformat": 4,
  "nbformat_minor": 0,
  "metadata": {
    "colab": {
      "name": "analise_exploratoria-google_play_store.ipynb",
      "provenance": [],
      "collapsed_sections": [],
      "authorship_tag": "ABX9TyMlzEHWoAbRkVEJaqF0FHfr",
      "include_colab_link": true
    },
    "kernelspec": {
      "name": "python3",
      "display_name": "Python 3"
    }
  },
  "cells": [
    {
      "cell_type": "markdown",
      "metadata": {
        "id": "view-in-github",
        "colab_type": "text"
      },
      "source": [
        "<a href=\"https://colab.research.google.com/github/guimaraaes/data-science/blob/master/analise_exploratoria-google_play_store.ipynb\" target=\"_parent\"><img src=\"https://colab.research.google.com/assets/colab-badge.svg\" alt=\"Open In Colab\"/></a>"
      ]
    },
    {
      "cell_type": "code",
      "metadata": {
        "id": "U8IiBSs6pfSB"
      },
      "source": [
        "import numpy as np # linear algebra\n",
        "import pandas as pd # data processing, CSV file I/O (e.g. pd.read_csv)\n",
        "import seaborn as sns\n",
        "import matplotlib.pyplot as plt\n",
        "from collections import Counter\n",
        "%matplotlib inline\n",
        "from pandas.plotting import scatter_matrix\n",
        "import warnings\n",
        "warnings.filterwarnings('ignore') "
      ],
      "execution_count": null,
      "outputs": []
    },
    {
      "cell_type": "markdown",
      "metadata": {
        "id": "9giJrsP9OquQ"
      },
      "source": [
        "\n",
        "#DESCRIÇÃO DA PROBLEMÁTICA\n",
        "Esse notebook consiste em descrever os dados dos aplicativos da Google App Store.\n",
        "\n",
        ">  O database é de dados coletados da web de 10 mil aplicativos da Play Store para análise do mercado Android. \n",
        "\n",
        "As variáveis do banco de dados analisado no arquivo *googleplaystore.csv* são:\n",
        "*   **Category**: a categorial a qual o app pertence;\n",
        "*   **Rating**: Avaliação dos usuários;\n",
        "*   **Reviews**: Número de revisões realizadas no app;\n",
        "*   **Size**: Tamanho do aplicativo;\n",
        "*   **Installs**: Número de usuários que realizaram instalação do app;\n",
        "*   **Type**: gratuito ou pago;\n",
        "*   **Price**: preço do app quando pago;\n",
        "*   **Content** Rating: Faixa etária à qual o aplicativo é direcionado;\n",
        "*   **Genres**:Um aplicativo pode pertencer a vários gêneros (além de sua categoria principal). Por exemplo, um jogo musical familiar pertencerá aos gêneros Música, Jogo, Família.\n",
        "\n",
        "\n",
        "\n",
        "\n",
        "\n",
        "\n",
        "\n",
        "\n",
        "\n",
        "\n"
      ]
    },
    {
      "cell_type": "markdown",
      "metadata": {
        "id": "SNpgPRf8pkT3"
      },
      "source": [
        "#OBTENÇÃO DOS DADOS\n",
        "Nessa etapa é descrito duas formas de obter os dados. Deve ser escolhida apenas uma e atentar para quais linhas podem ser executadas sempre ou não.\n"
      ]
    },
    {
      "cell_type": "markdown",
      "metadata": {
        "id": "voxRBADvxdPT"
      },
      "source": [
        "##Kaggle e Google Drive\n",
        "> Para realizar esse método é necessário ter uma conta no Kaggle e ter configurado o seu Google Drive para executar o download.\n",
        "\n",
        "\n",
        "No código a seguir são realizadas as seguintes ações:\n",
        "\n",
        "1.   conexão com o google drive;\n",
        "\n",
        "2.   download dos dados obtidos no [Kaggle - Database - Google App Store](https://www.kaggle.com/lava18/google-play-store-apps/notebooks?sortBy=voteCount&group=everyone&pageSize=20&datasetId=49864) para o drive (apenas na primeira vez);\n",
        "\n",
        "3.   atribuição destes dados à variável *data* com o biblioteca pandas."
      ]
    },
    {
      "cell_type": "code",
      "metadata": {
        "id": "Za_IEO-RpgDT"
      },
      "source": [
        "# # 1\n",
        "# from google.colab import drive\n",
        "# drive.mount('/content/gdrive')\n",
        "# import os\n",
        "# os.environ['KAGGLE_CONFIG_DIR'] = \"/content/gdrive/My Drive/Kaggle\"\n",
        "# %cd /content/gdrive/My Drive/Kaggle/google-play-store/\n",
        "\n",
        "# # 2\n",
        "# #descomentar apenas para o primeiro download\n",
        "# # ! kaggle datasets download -d lava18/google-play-store-apps\n",
        "# # !unzip \\*.zip  && rm *.zip\n",
        "\n",
        "# # 3\n",
        "# data=pd.read_csv('/content/gdrive/My Drive/Kaggle/google-play-store/googleplaystore.csv')\n",
        "# data_user_reviews=pd.read_csv('/content/gdrive/My Drive/Kaggle/google-play-store/googleplaystore_user_reviews.csv')"
      ],
      "execution_count": null,
      "outputs": []
    },
    {
      "cell_type": "markdown",
      "metadata": {
        "id": "d7CpcV8PwfcU"
      },
      "source": [
        "## GitHub\n",
        "\n",
        "Além disso, também disponibilizei uma cópia dos dados do Kaggle no meu GitHub.\n",
        "\n"
      ]
    },
    {
      "cell_type": "code",
      "metadata": {
        "id": "vneeAv47wf0P"
      },
      "source": [
        "data = pd.read_csv('https://raw.githubusercontent.com/guimaraaes/data-science/master/data/google-play-store/googleplaystore.csv')\n",
        "data_user_reviews = pd.read_csv('https://raw.githubusercontent.com/guimaraaes/data-science/master/data/google-play-store/googleplaystore_user_reviews.csv')"
      ],
      "execution_count": null,
      "outputs": []
    },
    {
      "cell_type": "markdown",
      "metadata": {
        "id": "GHwHdg7npgkh"
      },
      "source": [
        "# TRATAMENTO DOS DADOS\n",
        "\n",
        "Nessa etapa são realizadas diversas análises para conseguir identificar quais modificações podem ser realizadas nos dados para conseguir manipular eles e adquirir *insights*. Primeiro observamos que o DataFrame *data* é composto de 13 variáveis e 10841 dados enquanto o DataFrame *data_user_reviews* é composto de 5 variáveis e 64295,\n",
        "\n"
      ]
    },
    {
      "cell_type": "code",
      "metadata": {
        "id": "veAjL1B_pgPR",
        "outputId": "1447914a-e3c9-4ebf-f07f-c4c81627ec51",
        "colab": {
          "base_uri": "https://localhost:8080/",
          "height": 123
        }
      },
      "source": [
        "print('Dimensão do DataFrame data')\n",
        "print(\"variáveis: \", data.shape[1])\n",
        "print(\"dados:     \", data.shape[0])\n",
        "\n",
        "print('Dimensão do DataFrame data_user_reviews')\n",
        "print(\"variáveis: \", data_user_reviews.shape[1])\n",
        "print(\"dados:     \", data_user_reviews.shape[0])\n"
      ],
      "execution_count": null,
      "outputs": [
        {
          "output_type": "stream",
          "text": [
            "Dimensão do DataFrame data\n",
            "variáveis:  13\n",
            "dados:      10841\n",
            "Dimensão do DataFrame data_user_reviews\n",
            "variáveis:  5\n",
            "dados:      64295\n"
          ],
          "name": "stdout"
        }
      ]
    },
    {
      "cell_type": "markdown",
      "metadata": {
        "id": "IIGZ2gSLikTe"
      },
      "source": [
        "##DataFrame *data_user_reviews* \n",
        "Os primeiros cinco dados do DataFrame *data_user_reviews* são"
      ]
    },
    {
      "cell_type": "code",
      "metadata": {
        "id": "j0JsyaWCRsSQ",
        "outputId": "7ed7c0ef-25cb-4e7d-ad89-dd61c5a7541b",
        "colab": {
          "base_uri": "https://localhost:8080/",
          "height": 197
        }
      },
      "source": [
        "data_user_reviews.head()"
      ],
      "execution_count": null,
      "outputs": [
        {
          "output_type": "execute_result",
          "data": {
            "text/html": [
              "<div>\n",
              "<style scoped>\n",
              "    .dataframe tbody tr th:only-of-type {\n",
              "        vertical-align: middle;\n",
              "    }\n",
              "\n",
              "    .dataframe tbody tr th {\n",
              "        vertical-align: top;\n",
              "    }\n",
              "\n",
              "    .dataframe thead th {\n",
              "        text-align: right;\n",
              "    }\n",
              "</style>\n",
              "<table border=\"1\" class=\"dataframe\">\n",
              "  <thead>\n",
              "    <tr style=\"text-align: right;\">\n",
              "      <th></th>\n",
              "      <th>App</th>\n",
              "      <th>Translated_Review</th>\n",
              "      <th>Sentiment</th>\n",
              "      <th>Sentiment_Polarity</th>\n",
              "      <th>Sentiment_Subjectivity</th>\n",
              "    </tr>\n",
              "  </thead>\n",
              "  <tbody>\n",
              "    <tr>\n",
              "      <th>0</th>\n",
              "      <td>10 Best Foods for You</td>\n",
              "      <td>I like eat delicious food. That's I'm cooking ...</td>\n",
              "      <td>Positive</td>\n",
              "      <td>1.00</td>\n",
              "      <td>0.533333</td>\n",
              "    </tr>\n",
              "    <tr>\n",
              "      <th>1</th>\n",
              "      <td>10 Best Foods for You</td>\n",
              "      <td>This help eating healthy exercise regular basis</td>\n",
              "      <td>Positive</td>\n",
              "      <td>0.25</td>\n",
              "      <td>0.288462</td>\n",
              "    </tr>\n",
              "    <tr>\n",
              "      <th>2</th>\n",
              "      <td>10 Best Foods for You</td>\n",
              "      <td>NaN</td>\n",
              "      <td>NaN</td>\n",
              "      <td>NaN</td>\n",
              "      <td>NaN</td>\n",
              "    </tr>\n",
              "    <tr>\n",
              "      <th>3</th>\n",
              "      <td>10 Best Foods for You</td>\n",
              "      <td>Works great especially going grocery store</td>\n",
              "      <td>Positive</td>\n",
              "      <td>0.40</td>\n",
              "      <td>0.875000</td>\n",
              "    </tr>\n",
              "    <tr>\n",
              "      <th>4</th>\n",
              "      <td>10 Best Foods for You</td>\n",
              "      <td>Best idea us</td>\n",
              "      <td>Positive</td>\n",
              "      <td>1.00</td>\n",
              "      <td>0.300000</td>\n",
              "    </tr>\n",
              "  </tbody>\n",
              "</table>\n",
              "</div>"
            ],
            "text/plain": [
              "                     App  ... Sentiment_Subjectivity\n",
              "0  10 Best Foods for You  ...               0.533333\n",
              "1  10 Best Foods for You  ...               0.288462\n",
              "2  10 Best Foods for You  ...                    NaN\n",
              "3  10 Best Foods for You  ...               0.875000\n",
              "4  10 Best Foods for You  ...               0.300000\n",
              "\n",
              "[5 rows x 5 columns]"
            ]
          },
          "metadata": {
            "tags": []
          },
          "execution_count": 26
        }
      ]
    },
    {
      "cell_type": "markdown",
      "metadata": {
        "id": "f6lf0jqA4zTR"
      },
      "source": [
        "Observamos também o tipo das variáveis,"
      ]
    },
    {
      "cell_type": "code",
      "metadata": {
        "id": "SYpEj_ZPR4k4",
        "outputId": "8b7dda0d-ea23-4bbb-ea8f-da997365f532",
        "colab": {
          "base_uri": "https://localhost:8080/",
          "height": 230
        }
      },
      "source": [
        "data_user_reviews.info()"
      ],
      "execution_count": null,
      "outputs": [
        {
          "output_type": "stream",
          "text": [
            "<class 'pandas.core.frame.DataFrame'>\n",
            "RangeIndex: 64295 entries, 0 to 64294\n",
            "Data columns (total 5 columns):\n",
            " #   Column                  Non-Null Count  Dtype  \n",
            "---  ------                  --------------  -----  \n",
            " 0   App                     64295 non-null  object \n",
            " 1   Translated_Review       37427 non-null  object \n",
            " 2   Sentiment               37432 non-null  object \n",
            " 3   Sentiment_Polarity      37432 non-null  float64\n",
            " 4   Sentiment_Subjectivity  37432 non-null  float64\n",
            "dtypes: float64(2), object(3)\n",
            "memory usage: 2.5+ MB\n"
          ],
          "name": "stdout"
        }
      ]
    },
    {
      "cell_type": "markdown",
      "metadata": {
        "id": "wtM8pmYz41Gq"
      },
      "source": [
        "As primeiras modificações que iremos realizar vai ser transformar os dados de para um tipo de dado mais convencional. Assim vamos converter as variáveis do tipo *object* para *string*."
      ]
    },
    {
      "cell_type": "code",
      "metadata": {
        "id": "hikclxkyR7FW"
      },
      "source": [
        "data_user_reviews['App'] = data_user_reviews['App'].convert_dtypes()\n",
        "data_user_reviews['Translated_Review'] = data_user_reviews['Translated_Review'].convert_dtypes()\n",
        "data_user_reviews['Sentiment'] = data_user_reviews['Sentiment'].convert_dtypes()\n",
        "# data_user_reviews.info()"
      ],
      "execution_count": null,
      "outputs": []
    },
    {
      "cell_type": "markdown",
      "metadata": {
        "id": "s0nXckdl50av"
      },
      "source": [
        "Verificando a percentagem da quantidade de variáveis que são nulas percebemos que uma percentagem igual para as quatro últimas variáveis."
      ]
    },
    {
      "cell_type": "code",
      "metadata": {
        "id": "9YK6Tc1Z6CmB",
        "outputId": "48e033d8-a8e5-4486-e1c9-e607f3817d04",
        "colab": {
          "base_uri": "https://localhost:8080/",
          "height": 123
        }
      },
      "source": [
        "data_user_reviews.isnull().mean()*100"
      ],
      "execution_count": null,
      "outputs": [
        {
          "output_type": "execute_result",
          "data": {
            "text/plain": [
              "App                        0.000000\n",
              "Translated_Review         41.788631\n",
              "Sentiment                 41.780854\n",
              "Sentiment_Polarity        41.780854\n",
              "Sentiment_Subjectivity    41.780854\n",
              "dtype: float64"
            ]
          },
          "metadata": {
            "tags": []
          },
          "execution_count": 29
        }
      ]
    },
    {
      "cell_type": "markdown",
      "metadata": {
        "id": "67DQRePG6Ogj"
      },
      "source": [
        "Listando em uma variável null_data uma seleção do DataFrame data_user_review onde as quantro últimas variáveis são nulas temos um conjunto de dados com valores nulos. Como não conseguiremos recuperar esses dados ou aproveitar outras variáveis, vamos excluí-los do DataFrame."
      ]
    },
    {
      "cell_type": "code",
      "metadata": {
        "id": "NJukEc3g6Oq0",
        "outputId": "d7fd41d9-09bd-424f-9006-309b172f0012",
        "colab": {
          "base_uri": "https://localhost:8080/",
          "height": 406
        }
      },
      "source": [
        "null_data = data_user_reviews[data_user_reviews['Translated_Review'].isnull() & data_user_reviews['Sentiment'].isnull() &\n",
        "                  data_user_reviews['Sentiment_Polarity'].isnull() & data_user_reviews['Sentiment_Subjectivity'].isnull() ]\n",
        "null_data"
      ],
      "execution_count": null,
      "outputs": [
        {
          "output_type": "execute_result",
          "data": {
            "text/html": [
              "<div>\n",
              "<style scoped>\n",
              "    .dataframe tbody tr th:only-of-type {\n",
              "        vertical-align: middle;\n",
              "    }\n",
              "\n",
              "    .dataframe tbody tr th {\n",
              "        vertical-align: top;\n",
              "    }\n",
              "\n",
              "    .dataframe thead th {\n",
              "        text-align: right;\n",
              "    }\n",
              "</style>\n",
              "<table border=\"1\" class=\"dataframe\">\n",
              "  <thead>\n",
              "    <tr style=\"text-align: right;\">\n",
              "      <th></th>\n",
              "      <th>App</th>\n",
              "      <th>Translated_Review</th>\n",
              "      <th>Sentiment</th>\n",
              "      <th>Sentiment_Polarity</th>\n",
              "      <th>Sentiment_Subjectivity</th>\n",
              "    </tr>\n",
              "  </thead>\n",
              "  <tbody>\n",
              "    <tr>\n",
              "      <th>2</th>\n",
              "      <td>10 Best Foods for You</td>\n",
              "      <td>&lt;NA&gt;</td>\n",
              "      <td>&lt;NA&gt;</td>\n",
              "      <td>NaN</td>\n",
              "      <td>NaN</td>\n",
              "    </tr>\n",
              "    <tr>\n",
              "      <th>7</th>\n",
              "      <td>10 Best Foods for You</td>\n",
              "      <td>&lt;NA&gt;</td>\n",
              "      <td>&lt;NA&gt;</td>\n",
              "      <td>NaN</td>\n",
              "      <td>NaN</td>\n",
              "    </tr>\n",
              "    <tr>\n",
              "      <th>15</th>\n",
              "      <td>10 Best Foods for You</td>\n",
              "      <td>&lt;NA&gt;</td>\n",
              "      <td>&lt;NA&gt;</td>\n",
              "      <td>NaN</td>\n",
              "      <td>NaN</td>\n",
              "    </tr>\n",
              "    <tr>\n",
              "      <th>102</th>\n",
              "      <td>10 Best Foods for You</td>\n",
              "      <td>&lt;NA&gt;</td>\n",
              "      <td>&lt;NA&gt;</td>\n",
              "      <td>NaN</td>\n",
              "      <td>NaN</td>\n",
              "    </tr>\n",
              "    <tr>\n",
              "      <th>107</th>\n",
              "      <td>10 Best Foods for You</td>\n",
              "      <td>&lt;NA&gt;</td>\n",
              "      <td>&lt;NA&gt;</td>\n",
              "      <td>NaN</td>\n",
              "      <td>NaN</td>\n",
              "    </tr>\n",
              "    <tr>\n",
              "      <th>...</th>\n",
              "      <td>...</td>\n",
              "      <td>...</td>\n",
              "      <td>...</td>\n",
              "      <td>...</td>\n",
              "      <td>...</td>\n",
              "    </tr>\n",
              "    <tr>\n",
              "      <th>64290</th>\n",
              "      <td>Houzz Interior Design Ideas</td>\n",
              "      <td>&lt;NA&gt;</td>\n",
              "      <td>&lt;NA&gt;</td>\n",
              "      <td>NaN</td>\n",
              "      <td>NaN</td>\n",
              "    </tr>\n",
              "    <tr>\n",
              "      <th>64291</th>\n",
              "      <td>Houzz Interior Design Ideas</td>\n",
              "      <td>&lt;NA&gt;</td>\n",
              "      <td>&lt;NA&gt;</td>\n",
              "      <td>NaN</td>\n",
              "      <td>NaN</td>\n",
              "    </tr>\n",
              "    <tr>\n",
              "      <th>64292</th>\n",
              "      <td>Houzz Interior Design Ideas</td>\n",
              "      <td>&lt;NA&gt;</td>\n",
              "      <td>&lt;NA&gt;</td>\n",
              "      <td>NaN</td>\n",
              "      <td>NaN</td>\n",
              "    </tr>\n",
              "    <tr>\n",
              "      <th>64293</th>\n",
              "      <td>Houzz Interior Design Ideas</td>\n",
              "      <td>&lt;NA&gt;</td>\n",
              "      <td>&lt;NA&gt;</td>\n",
              "      <td>NaN</td>\n",
              "      <td>NaN</td>\n",
              "    </tr>\n",
              "    <tr>\n",
              "      <th>64294</th>\n",
              "      <td>Houzz Interior Design Ideas</td>\n",
              "      <td>&lt;NA&gt;</td>\n",
              "      <td>&lt;NA&gt;</td>\n",
              "      <td>NaN</td>\n",
              "      <td>NaN</td>\n",
              "    </tr>\n",
              "  </tbody>\n",
              "</table>\n",
              "<p>26863 rows × 5 columns</p>\n",
              "</div>"
            ],
            "text/plain": [
              "                               App  ... Sentiment_Subjectivity\n",
              "2            10 Best Foods for You  ...                    NaN\n",
              "7            10 Best Foods for You  ...                    NaN\n",
              "15           10 Best Foods for You  ...                    NaN\n",
              "102          10 Best Foods for You  ...                    NaN\n",
              "107          10 Best Foods for You  ...                    NaN\n",
              "...                            ...  ...                    ...\n",
              "64290  Houzz Interior Design Ideas  ...                    NaN\n",
              "64291  Houzz Interior Design Ideas  ...                    NaN\n",
              "64292  Houzz Interior Design Ideas  ...                    NaN\n",
              "64293  Houzz Interior Design Ideas  ...                    NaN\n",
              "64294  Houzz Interior Design Ideas  ...                    NaN\n",
              "\n",
              "[26863 rows x 5 columns]"
            ]
          },
          "metadata": {
            "tags": []
          },
          "execution_count": 30
        }
      ]
    },
    {
      "cell_type": "markdown",
      "metadata": {
        "id": "IXqPFazB8O7m"
      },
      "source": [
        "Visualizando os valores nulos do novo DataFrame temos,"
      ]
    },
    {
      "cell_type": "code",
      "metadata": {
        "id": "2JuS3ozm8KAn",
        "outputId": "f9a4ef74-249a-4729-c050-9b75bab04d7b",
        "colab": {
          "base_uri": "https://localhost:8080/",
          "height": 123
        }
      },
      "source": [
        "data_user_reviews.drop(list(null_data.index), inplace=True)\n",
        "data_user_reviews.isnull().sum()"
      ],
      "execution_count": null,
      "outputs": [
        {
          "output_type": "execute_result",
          "data": {
            "text/plain": [
              "App                       0\n",
              "Translated_Review         5\n",
              "Sentiment                 0\n",
              "Sentiment_Polarity        0\n",
              "Sentiment_Subjectivity    0\n",
              "dtype: int64"
            ]
          },
          "metadata": {
            "tags": []
          },
          "execution_count": 31
        }
      ]
    },
    {
      "cell_type": "markdown",
      "metadata": {
        "id": "mu7c8QMG8eqq"
      },
      "source": [
        "Os valores nulos para a variável *Translated_Review* são aceitáveis, pois trata-se apenas do *feedback* do usuário em forma de texto. Verificando agora os tipos únicos de dado para cada variável temos que *Sentiment* é uma variável categórica, pois apresenta apenas 3 valores únicos."
      ]
    },
    {
      "cell_type": "code",
      "metadata": {
        "id": "VIxxmE01SbOL",
        "outputId": "71cc16e2-4cc4-4fd3-d622-cde2437b4d45",
        "colab": {
          "base_uri": "https://localhost:8080/",
          "height": 123
        }
      },
      "source": [
        "data_user_reviews.nunique()"
      ],
      "execution_count": null,
      "outputs": [
        {
          "output_type": "execute_result",
          "data": {
            "text/plain": [
              "App                         865\n",
              "Translated_Review         27994\n",
              "Sentiment                     3\n",
              "Sentiment_Polarity         6195\n",
              "Sentiment_Subjectivity     4530\n",
              "dtype: int64"
            ]
          },
          "metadata": {
            "tags": []
          },
          "execution_count": 32
        }
      ]
    },
    {
      "cell_type": "markdown",
      "metadata": {
        "id": "XfaqkEWR8-nr"
      },
      "source": [
        "Os valores assumidos na variável *Sentiment* são"
      ]
    },
    {
      "cell_type": "code",
      "metadata": {
        "id": "MaGbSG-YSbVi",
        "outputId": "cb73a5c8-8d74-4655-fc41-84705aaee2ed",
        "colab": {
          "base_uri": "https://localhost:8080/",
          "height": 70
        }
      },
      "source": [
        "data_user_reviews['Sentiment'].unique()"
      ],
      "execution_count": null,
      "outputs": [
        {
          "output_type": "execute_result",
          "data": {
            "text/plain": [
              "<StringArray>\n",
              "['Positive', 'Neutral', 'Negative']\n",
              "Length: 3, dtype: string"
            ]
          },
          "metadata": {
            "tags": []
          },
          "execution_count": 33
        }
      ]
    },
    {
      "cell_type": "code",
      "metadata": {
        "id": "S-PsgdvQSbeH"
      },
      "source": [
        ""
      ],
      "execution_count": null,
      "outputs": []
    },
    {
      "cell_type": "markdown",
      "metadata": {
        "id": "7_pVatPRifry"
      },
      "source": [
        "##DataFrame *data* \n",
        "Observamos os primeiros dados do DataFrame *data*,\n"
      ]
    },
    {
      "cell_type": "code",
      "metadata": {
        "id": "i8eTGvl2pgSO",
        "outputId": "487c8ba9-2f26-4c67-f891-dbcd7d043255",
        "colab": {
          "base_uri": "https://localhost:8080/",
          "height": 314
        }
      },
      "source": [
        "data.head()"
      ],
      "execution_count": null,
      "outputs": [
        {
          "output_type": "execute_result",
          "data": {
            "text/html": [
              "<div>\n",
              "<style scoped>\n",
              "    .dataframe tbody tr th:only-of-type {\n",
              "        vertical-align: middle;\n",
              "    }\n",
              "\n",
              "    .dataframe tbody tr th {\n",
              "        vertical-align: top;\n",
              "    }\n",
              "\n",
              "    .dataframe thead th {\n",
              "        text-align: right;\n",
              "    }\n",
              "</style>\n",
              "<table border=\"1\" class=\"dataframe\">\n",
              "  <thead>\n",
              "    <tr style=\"text-align: right;\">\n",
              "      <th></th>\n",
              "      <th>App</th>\n",
              "      <th>Category</th>\n",
              "      <th>Rating</th>\n",
              "      <th>Reviews</th>\n",
              "      <th>Size</th>\n",
              "      <th>Installs</th>\n",
              "      <th>Type</th>\n",
              "      <th>Price</th>\n",
              "      <th>Content Rating</th>\n",
              "      <th>Genres</th>\n",
              "      <th>Last Updated</th>\n",
              "      <th>Current Ver</th>\n",
              "      <th>Android Ver</th>\n",
              "    </tr>\n",
              "  </thead>\n",
              "  <tbody>\n",
              "    <tr>\n",
              "      <th>0</th>\n",
              "      <td>Photo Editor &amp; Candy Camera &amp; Grid &amp; ScrapBook</td>\n",
              "      <td>ART_AND_DESIGN</td>\n",
              "      <td>4.1</td>\n",
              "      <td>159</td>\n",
              "      <td>19M</td>\n",
              "      <td>10,000+</td>\n",
              "      <td>Free</td>\n",
              "      <td>0</td>\n",
              "      <td>Everyone</td>\n",
              "      <td>Art &amp; Design</td>\n",
              "      <td>January 7, 2018</td>\n",
              "      <td>1.0.0</td>\n",
              "      <td>4.0.3 and up</td>\n",
              "    </tr>\n",
              "    <tr>\n",
              "      <th>1</th>\n",
              "      <td>Coloring book moana</td>\n",
              "      <td>ART_AND_DESIGN</td>\n",
              "      <td>3.9</td>\n",
              "      <td>967</td>\n",
              "      <td>14M</td>\n",
              "      <td>500,000+</td>\n",
              "      <td>Free</td>\n",
              "      <td>0</td>\n",
              "      <td>Everyone</td>\n",
              "      <td>Art &amp; Design;Pretend Play</td>\n",
              "      <td>January 15, 2018</td>\n",
              "      <td>2.0.0</td>\n",
              "      <td>4.0.3 and up</td>\n",
              "    </tr>\n",
              "    <tr>\n",
              "      <th>2</th>\n",
              "      <td>U Launcher Lite – FREE Live Cool Themes, Hide ...</td>\n",
              "      <td>ART_AND_DESIGN</td>\n",
              "      <td>4.7</td>\n",
              "      <td>87510</td>\n",
              "      <td>8.7M</td>\n",
              "      <td>5,000,000+</td>\n",
              "      <td>Free</td>\n",
              "      <td>0</td>\n",
              "      <td>Everyone</td>\n",
              "      <td>Art &amp; Design</td>\n",
              "      <td>August 1, 2018</td>\n",
              "      <td>1.2.4</td>\n",
              "      <td>4.0.3 and up</td>\n",
              "    </tr>\n",
              "    <tr>\n",
              "      <th>3</th>\n",
              "      <td>Sketch - Draw &amp; Paint</td>\n",
              "      <td>ART_AND_DESIGN</td>\n",
              "      <td>4.5</td>\n",
              "      <td>215644</td>\n",
              "      <td>25M</td>\n",
              "      <td>50,000,000+</td>\n",
              "      <td>Free</td>\n",
              "      <td>0</td>\n",
              "      <td>Teen</td>\n",
              "      <td>Art &amp; Design</td>\n",
              "      <td>June 8, 2018</td>\n",
              "      <td>Varies with device</td>\n",
              "      <td>4.2 and up</td>\n",
              "    </tr>\n",
              "    <tr>\n",
              "      <th>4</th>\n",
              "      <td>Pixel Draw - Number Art Coloring Book</td>\n",
              "      <td>ART_AND_DESIGN</td>\n",
              "      <td>4.3</td>\n",
              "      <td>967</td>\n",
              "      <td>2.8M</td>\n",
              "      <td>100,000+</td>\n",
              "      <td>Free</td>\n",
              "      <td>0</td>\n",
              "      <td>Everyone</td>\n",
              "      <td>Art &amp; Design;Creativity</td>\n",
              "      <td>June 20, 2018</td>\n",
              "      <td>1.1</td>\n",
              "      <td>4.4 and up</td>\n",
              "    </tr>\n",
              "  </tbody>\n",
              "</table>\n",
              "</div>"
            ],
            "text/plain": [
              "                                                 App  ...   Android Ver\n",
              "0     Photo Editor & Candy Camera & Grid & ScrapBook  ...  4.0.3 and up\n",
              "1                                Coloring book moana  ...  4.0.3 and up\n",
              "2  U Launcher Lite – FREE Live Cool Themes, Hide ...  ...  4.0.3 and up\n",
              "3                              Sketch - Draw & Paint  ...    4.2 and up\n",
              "4              Pixel Draw - Number Art Coloring Book  ...    4.4 and up\n",
              "\n",
              "[5 rows x 13 columns]"
            ]
          },
          "metadata": {
            "tags": []
          },
          "execution_count": 34
        }
      ]
    },
    {
      "cell_type": "markdown",
      "metadata": {
        "id": "qPAQVdLpyd_J"
      },
      "source": [
        "Observamos também o tipo das variáveis,"
      ]
    },
    {
      "cell_type": "code",
      "metadata": {
        "id": "aTTA_ObBrrl1",
        "outputId": "8bcaa90d-048f-4758-cedf-3b0f7d59b2a3",
        "colab": {
          "base_uri": "https://localhost:8080/",
          "height": 372
        }
      },
      "source": [
        "data.info()"
      ],
      "execution_count": null,
      "outputs": [
        {
          "output_type": "stream",
          "text": [
            "<class 'pandas.core.frame.DataFrame'>\n",
            "RangeIndex: 10841 entries, 0 to 10840\n",
            "Data columns (total 13 columns):\n",
            " #   Column          Non-Null Count  Dtype  \n",
            "---  ------          --------------  -----  \n",
            " 0   App             10841 non-null  object \n",
            " 1   Category        10841 non-null  object \n",
            " 2   Rating          9367 non-null   float64\n",
            " 3   Reviews         10841 non-null  object \n",
            " 4   Size            10841 non-null  object \n",
            " 5   Installs        10841 non-null  object \n",
            " 6   Type            10840 non-null  object \n",
            " 7   Price           10841 non-null  object \n",
            " 8   Content Rating  10840 non-null  object \n",
            " 9   Genres          10841 non-null  object \n",
            " 10  Last Updated    10841 non-null  object \n",
            " 11  Current Ver     10833 non-null  object \n",
            " 12  Android Ver     10838 non-null  object \n",
            "dtypes: float64(1), object(12)\n",
            "memory usage: 1.1+ MB\n"
          ],
          "name": "stdout"
        }
      ]
    },
    {
      "cell_type": "markdown",
      "metadata": {
        "id": "o16Q9J7EUyEH"
      },
      "source": [
        "As primeiras modificações que iremos realizar vai ser transformar os dados de *object* para um tipo de dado mais convencional como *int*, *float* ou *string*. Inicialmente convertemos as variáveis para *string*."
      ]
    },
    {
      "cell_type": "code",
      "metadata": {
        "id": "vSEtcTHZrroW"
      },
      "source": [
        "data['App'] = data['App'].convert_dtypes()\n",
        "data['Category'] = data['Category'].convert_dtypes()\n",
        "\n",
        "data['Type'] = data['Type'].convert_dtypes()\n",
        "data['Content Rating'] = data['Content Rating'].convert_dtypes()\n",
        "data['Genres'] = data['Genres'].convert_dtypes()\n",
        "\n",
        "data['Current Ver'] = data['Current Ver'].convert_dtypes()\n",
        "data['Android Ver'] = data['Android Ver'].convert_dtypes()"
      ],
      "execution_count": null,
      "outputs": []
    },
    {
      "cell_type": "markdown",
      "metadata": {
        "id": "QH0ok3uuWFmY"
      },
      "source": [
        "Ao tentarmos transformar as variáveis em *float* percebemos que a transformação para *Rating* apresenta um erro em dados com valor de '3.0M', analisando esses dados percebemos que consiste em uma única célula onde as colunas parecem ter sido preenchidas erradas com uma defasagem. "
      ]
    },
    {
      "cell_type": "code",
      "metadata": {
        "id": "NOCeK6wOWEvb",
        "outputId": "b3837d3c-f0b5-42c0-fff8-aa83ce58227a",
        "colab": {
          "base_uri": "https://localhost:8080/",
          "height": 111
        }
      },
      "source": [
        "data[data['Reviews']=='3.0M']\n"
      ],
      "execution_count": null,
      "outputs": [
        {
          "output_type": "execute_result",
          "data": {
            "text/html": [
              "<div>\n",
              "<style scoped>\n",
              "    .dataframe tbody tr th:only-of-type {\n",
              "        vertical-align: middle;\n",
              "    }\n",
              "\n",
              "    .dataframe tbody tr th {\n",
              "        vertical-align: top;\n",
              "    }\n",
              "\n",
              "    .dataframe thead th {\n",
              "        text-align: right;\n",
              "    }\n",
              "</style>\n",
              "<table border=\"1\" class=\"dataframe\">\n",
              "  <thead>\n",
              "    <tr style=\"text-align: right;\">\n",
              "      <th></th>\n",
              "      <th>App</th>\n",
              "      <th>Category</th>\n",
              "      <th>Rating</th>\n",
              "      <th>Reviews</th>\n",
              "      <th>Size</th>\n",
              "      <th>Installs</th>\n",
              "      <th>Type</th>\n",
              "      <th>Price</th>\n",
              "      <th>Content Rating</th>\n",
              "      <th>Genres</th>\n",
              "      <th>Last Updated</th>\n",
              "      <th>Current Ver</th>\n",
              "      <th>Android Ver</th>\n",
              "    </tr>\n",
              "  </thead>\n",
              "  <tbody>\n",
              "    <tr>\n",
              "      <th>10472</th>\n",
              "      <td>Life Made WI-Fi Touchscreen Photo Frame</td>\n",
              "      <td>1.9</td>\n",
              "      <td>19.0</td>\n",
              "      <td>3.0M</td>\n",
              "      <td>1,000+</td>\n",
              "      <td>Free</td>\n",
              "      <td>0</td>\n",
              "      <td>Everyone</td>\n",
              "      <td>&lt;NA&gt;</td>\n",
              "      <td>February 11, 2018</td>\n",
              "      <td>1.0.19</td>\n",
              "      <td>4.0 and up</td>\n",
              "      <td>&lt;NA&gt;</td>\n",
              "    </tr>\n",
              "  </tbody>\n",
              "</table>\n",
              "</div>"
            ],
            "text/plain": [
              "                                           App Category  ...  Current Ver Android Ver\n",
              "10472  Life Made WI-Fi Touchscreen Photo Frame      1.9  ...   4.0 and up        <NA>\n",
              "\n",
              "[1 rows x 13 columns]"
            ]
          },
          "metadata": {
            "tags": []
          },
          "execution_count": 37
        }
      ]
    },
    {
      "cell_type": "markdown",
      "metadata": {
        "id": "vTcqDhmm94Ji"
      },
      "source": [
        "Por ser apenas um dado, apagamos ele do DataFrame,"
      ]
    },
    {
      "cell_type": "code",
      "metadata": {
        "id": "vsi3wGD5XmTF",
        "outputId": "13b13ad9-e3e7-4e65-9e13-b83b4e84360d",
        "colab": {
          "base_uri": "https://localhost:8080/",
          "height": 34
        }
      },
      "source": [
        "data.drop(index=10472, inplace=True)\n",
        "print(\"total de linhas restantes: \", data.shape[0])"
      ],
      "execution_count": null,
      "outputs": [
        {
          "output_type": "stream",
          "text": [
            "total de linhas restantes:  10840\n"
          ],
          "name": "stdout"
        }
      ]
    },
    {
      "cell_type": "markdown",
      "metadata": {
        "id": "rQ07tgRZZHjb"
      },
      "source": [
        "A seguir são realizadas modificações para obter algumas variáveis para tipo numérico. Além disso, algumas dessas modificações envolveram operações com *string* para poder tornar o valor em *int* ou *float*,\n",
        "\n",
        "*   Na variável Price foi removido o caractere $;\n",
        "*   Na variável Size foi criado um array com a dimensão correspondente para k ou M. Estes foram removidos da variável data que foi convertida para um valor numérico e multiplicada pela dimensão correspondente;\n",
        "*   Por fim, na variável Installs foi removido o caractere + e , para converter o valor para um float.\n",
        "\n",
        "Assim, finalizamos a conversão de todos as variáveis desejadas.\n",
        "\n"
      ]
    },
    {
      "cell_type": "code",
      "metadata": {
        "id": "H4PKqz5nWE-p",
        "outputId": "5f5a2862-46a6-4dd0-a56c-85215d2e9dab",
        "colab": {
          "base_uri": "https://localhost:8080/",
          "height": 372
        }
      },
      "source": [
        "data['Reviews'] = data['Reviews'].astype(float)\n",
        "data['Rating'] = data['Rating'].astype(float)\n",
        "\n",
        "data['Price'] = data['Price'].str.replace('$', '')\n",
        "data['Price'].unique()\n",
        "data['Price'] = data['Price'].astype(float)\n",
        "\n",
        "escale=[]\n",
        "for i in data['Size']:\n",
        "  if 'k' in i:\n",
        "    escale=np.append(escale, [1000])\n",
        "  elif 'M' in i:\n",
        "    escale=np.append(escale, [1000000])\n",
        "  else:\n",
        "    escale=np.append(escale, [0])\n",
        "# len(escale)\n",
        "data['Size'] = data['Size'].str.replace('M', '')\n",
        "data['Size'] = data['Size'].str.replace('k', '')\n",
        "data['Size'] = data['Size'].str.replace('Varies with device', '0')\n",
        "data['Size'] = (np.multiply(data['Size'].astype(float), escale)).astype(int)\n",
        "\n",
        "data['Installs'] = data['Installs'].str.replace('+', '')\n",
        "data['Installs'] = data['Installs'].str.replace(',', '')\n",
        "data['Installs'] = data['Installs'].astype(float)\n",
        "data.info()"
      ],
      "execution_count": null,
      "outputs": [
        {
          "output_type": "stream",
          "text": [
            "<class 'pandas.core.frame.DataFrame'>\n",
            "Int64Index: 10840 entries, 0 to 10840\n",
            "Data columns (total 13 columns):\n",
            " #   Column          Non-Null Count  Dtype  \n",
            "---  ------          --------------  -----  \n",
            " 0   App             10840 non-null  string \n",
            " 1   Category        10840 non-null  string \n",
            " 2   Rating          9366 non-null   float64\n",
            " 3   Reviews         10840 non-null  float64\n",
            " 4   Size            10840 non-null  int64  \n",
            " 5   Installs        10840 non-null  float64\n",
            " 6   Type            10839 non-null  string \n",
            " 7   Price           10840 non-null  float64\n",
            " 8   Content Rating  10840 non-null  string \n",
            " 9   Genres          10840 non-null  string \n",
            " 10  Last Updated    10840 non-null  object \n",
            " 11  Current Ver     10832 non-null  string \n",
            " 12  Android Ver     10838 non-null  string \n",
            "dtypes: float64(4), int64(1), object(1), string(7)\n",
            "memory usage: 1.2+ MB\n"
          ],
          "name": "stdout"
        }
      ]
    },
    {
      "cell_type": "markdown",
      "metadata": {
        "id": "oQ3C8vVQboOD"
      },
      "source": [
        "Por curiosidade verificamos de modo rápido se há alguma inconsistência entre a variável *Type* ou *Price*, realizados o código a seguir."
      ]
    },
    {
      "cell_type": "code",
      "metadata": {
        "id": "mJ3B95ak9jfn",
        "outputId": "f1e5e5a4-d83c-4d39-b25d-f11297eb454e",
        "colab": {
          "base_uri": "https://localhost:8080/",
          "height": 47
        }
      },
      "source": [
        "data[(data['Type'] == 'Free') & (data['Price'] > 0)]"
      ],
      "execution_count": null,
      "outputs": [
        {
          "output_type": "execute_result",
          "data": {
            "text/html": [
              "<div>\n",
              "<style scoped>\n",
              "    .dataframe tbody tr th:only-of-type {\n",
              "        vertical-align: middle;\n",
              "    }\n",
              "\n",
              "    .dataframe tbody tr th {\n",
              "        vertical-align: top;\n",
              "    }\n",
              "\n",
              "    .dataframe thead th {\n",
              "        text-align: right;\n",
              "    }\n",
              "</style>\n",
              "<table border=\"1\" class=\"dataframe\">\n",
              "  <thead>\n",
              "    <tr style=\"text-align: right;\">\n",
              "      <th></th>\n",
              "      <th>App</th>\n",
              "      <th>Category</th>\n",
              "      <th>Rating</th>\n",
              "      <th>Reviews</th>\n",
              "      <th>Size</th>\n",
              "      <th>Installs</th>\n",
              "      <th>Type</th>\n",
              "      <th>Price</th>\n",
              "      <th>Content Rating</th>\n",
              "      <th>Genres</th>\n",
              "      <th>Last Updated</th>\n",
              "      <th>Current Ver</th>\n",
              "      <th>Android Ver</th>\n",
              "    </tr>\n",
              "  </thead>\n",
              "  <tbody>\n",
              "  </tbody>\n",
              "</table>\n",
              "</div>"
            ],
            "text/plain": [
              "Empty DataFrame\n",
              "Columns: [App, Category, Rating, Reviews, Size, Installs, Type, Price, Content Rating, Genres, Last Updated, Current Ver, Android Ver]\n",
              "Index: []"
            ]
          },
          "metadata": {
            "tags": []
          },
          "execution_count": 40
        }
      ]
    },
    {
      "cell_type": "markdown",
      "metadata": {
        "id": "YVrq8gYE3Iuj"
      },
      "source": [
        "Verificamos também os valores únicos para cada variável no intuito de conseguir obter variáveis categóricas. A seguir vão ser manipuladas algumas variáveis que apresentaram valores baixos para o método *nunique()*."
      ]
    },
    {
      "cell_type": "code",
      "metadata": {
        "id": "tiZAA84V3JLU",
        "outputId": "f7fa92f2-23f4-4820-e7ad-806067d142bb",
        "colab": {
          "base_uri": "https://localhost:8080/",
          "height": 265
        }
      },
      "source": [
        "data.nunique()"
      ],
      "execution_count": null,
      "outputs": [
        {
          "output_type": "execute_result",
          "data": {
            "text/plain": [
              "App               9659\n",
              "Category            33\n",
              "Rating              39\n",
              "Reviews           6001\n",
              "Size               460\n",
              "Installs            20\n",
              "Type                 2\n",
              "Price               92\n",
              "Content Rating       6\n",
              "Genres             119\n",
              "Last Updated      1377\n",
              "Current Ver       2831\n",
              "Android Ver         33\n",
              "dtype: int64"
            ]
          },
          "metadata": {
            "tags": []
          },
          "execution_count": 41
        }
      ]
    },
    {
      "cell_type": "markdown",
      "metadata": {
        "id": "GiUkZKWTcw7q"
      },
      "source": [
        "Para a variável *Type*,"
      ]
    },
    {
      "cell_type": "code",
      "metadata": {
        "id": "ei3o_g8kACC2",
        "outputId": "97917359-0a1d-4aa5-e68f-903c48f2c1c9",
        "colab": {
          "base_uri": "https://localhost:8080/",
          "height": 70
        }
      },
      "source": [
        "data['Type'].unique()"
      ],
      "execution_count": null,
      "outputs": [
        {
          "output_type": "execute_result",
          "data": {
            "text/plain": [
              "<StringArray>\n",
              "['Free', 'Paid', <NA>]\n",
              "Length: 3, dtype: string"
            ]
          },
          "metadata": {
            "tags": []
          },
          "execution_count": 42
        }
      ]
    },
    {
      "cell_type": "markdown",
      "metadata": {
        "id": "pLsMmh8quHsd"
      },
      "source": [
        "Obtendo os valores do DataFrame onde a variável *Type* é nula temos um único dado,"
      ]
    },
    {
      "cell_type": "code",
      "metadata": {
        "id": "NfU0aV1jAVYZ",
        "outputId": "588329b3-b290-4410-f249-ba39ee3586db",
        "colab": {
          "base_uri": "https://localhost:8080/",
          "height": 77
        }
      },
      "source": [
        "data[(data['Type'].isnull()) ]"
      ],
      "execution_count": null,
      "outputs": [
        {
          "output_type": "execute_result",
          "data": {
            "text/html": [
              "<div>\n",
              "<style scoped>\n",
              "    .dataframe tbody tr th:only-of-type {\n",
              "        vertical-align: middle;\n",
              "    }\n",
              "\n",
              "    .dataframe tbody tr th {\n",
              "        vertical-align: top;\n",
              "    }\n",
              "\n",
              "    .dataframe thead th {\n",
              "        text-align: right;\n",
              "    }\n",
              "</style>\n",
              "<table border=\"1\" class=\"dataframe\">\n",
              "  <thead>\n",
              "    <tr style=\"text-align: right;\">\n",
              "      <th></th>\n",
              "      <th>App</th>\n",
              "      <th>Category</th>\n",
              "      <th>Rating</th>\n",
              "      <th>Reviews</th>\n",
              "      <th>Size</th>\n",
              "      <th>Installs</th>\n",
              "      <th>Type</th>\n",
              "      <th>Price</th>\n",
              "      <th>Content Rating</th>\n",
              "      <th>Genres</th>\n",
              "      <th>Last Updated</th>\n",
              "      <th>Current Ver</th>\n",
              "      <th>Android Ver</th>\n",
              "    </tr>\n",
              "  </thead>\n",
              "  <tbody>\n",
              "    <tr>\n",
              "      <th>9148</th>\n",
              "      <td>Command &amp; Conquer: Rivals</td>\n",
              "      <td>FAMILY</td>\n",
              "      <td>NaN</td>\n",
              "      <td>0.0</td>\n",
              "      <td>0</td>\n",
              "      <td>0.0</td>\n",
              "      <td>&lt;NA&gt;</td>\n",
              "      <td>0.0</td>\n",
              "      <td>Everyone 10+</td>\n",
              "      <td>Strategy</td>\n",
              "      <td>June 28, 2018</td>\n",
              "      <td>Varies with device</td>\n",
              "      <td>Varies with device</td>\n",
              "    </tr>\n",
              "  </tbody>\n",
              "</table>\n",
              "</div>"
            ],
            "text/plain": [
              "                            App  ...         Android Ver\n",
              "9148  Command & Conquer: Rivals  ...  Varies with device\n",
              "\n",
              "[1 rows x 13 columns]"
            ]
          },
          "metadata": {
            "tags": []
          },
          "execution_count": 43
        }
      ]
    },
    {
      "cell_type": "markdown",
      "metadata": {
        "id": "cg_OZnPdefwH"
      },
      "source": [
        "Pelo dado já percebemos que tanto o valor de *Type* como de *Rating* não são definidos, daí vamos atribuir o valor de *Free* para o *Type*, pois o *Price* é 0.0 e para o *Rating* vamos atribuir o valor da mediana."
      ]
    },
    {
      "cell_type": "code",
      "metadata": {
        "id": "Bam2N8djdU9c"
      },
      "source": [
        "data.loc[(data['Type'].isnull()), 'Type']  = \"Free\"\n",
        "data.loc[(data['Rating'].isnull()), 'Rating']  = data['Rating'].median()"
      ],
      "execution_count": null,
      "outputs": []
    },
    {
      "cell_type": "markdown",
      "metadata": {
        "id": "-XecC0DAugzS"
      },
      "source": [
        "Novamente obtemos os valores únicos para a variável *Type* e verificamos a existência de apenas duas classes, *Free* e *Paid*."
      ]
    },
    {
      "cell_type": "code",
      "metadata": {
        "id": "EJb1906n9jiw",
        "outputId": "261294c5-3ac2-407c-ed0a-286542c05459",
        "colab": {
          "base_uri": "https://localhost:8080/",
          "height": 70
        }
      },
      "source": [
        "data['Type'].unique()"
      ],
      "execution_count": null,
      "outputs": [
        {
          "output_type": "execute_result",
          "data": {
            "text/plain": [
              "<StringArray>\n",
              "['Free', 'Paid']\n",
              "Length: 2, dtype: string"
            ]
          },
          "metadata": {
            "tags": []
          },
          "execution_count": 45
        }
      ]
    },
    {
      "cell_type": "markdown",
      "metadata": {
        "id": "zuwGqxmEuxHM"
      },
      "source": [
        "Obtendo agora os valores únicos para a variável *Content Rating* temos,"
      ]
    },
    {
      "cell_type": "code",
      "metadata": {
        "id": "PfQq0_5d_I3c",
        "outputId": "aa08e9fb-ceaa-4736-b33a-42c90dc1cc4d",
        "colab": {
          "base_uri": "https://localhost:8080/",
          "height": 87
        }
      },
      "source": [
        "data['Content Rating'].unique()"
      ],
      "execution_count": null,
      "outputs": [
        {
          "output_type": "execute_result",
          "data": {
            "text/plain": [
              "<StringArray>\n",
              "['Everyone', 'Teen', 'Everyone 10+', 'Mature 17+', 'Adults only 18+',\n",
              " 'Unrated']\n",
              "Length: 6, dtype: string"
            ]
          },
          "metadata": {
            "tags": []
          },
          "execution_count": 46
        }
      ]
    },
    {
      "cell_type": "markdown",
      "metadata": {
        "id": "Xp9p-4gvu427"
      },
      "source": [
        "Para diminuir a quantidade de variável vamos agrupar aquelas que possuem mais similaridade e obtemos apenas duas classes para esta variável, ou seja,"
      ]
    },
    {
      "cell_type": "code",
      "metadata": {
        "id": "Ff0T9mlu9jr_",
        "outputId": "2eca5e9e-d57b-4c20-b964-cdeae8bb5cce",
        "colab": {
          "base_uri": "https://localhost:8080/",
          "height": 70
        }
      },
      "source": [
        "data.loc[(data['Content Rating'] == 'Unrated'), 'Content Rating']  = \"Everyone\"\n",
        "data.loc[(data['Content Rating'] == 'Teen'), 'Content Rating']  = \"Everyone 10+\"\n",
        "data.loc[(data['Content Rating'] == 'Mature 17+'), 'Content Rating']  = \"Adults only 18+\"\n",
        "data['Content Rating'].unique()"
      ],
      "execution_count": null,
      "outputs": [
        {
          "output_type": "execute_result",
          "data": {
            "text/plain": [
              "<StringArray>\n",
              "['Everyone', 'Everyone 10+', 'Adults only 18+']\n",
              "Length: 3, dtype: string"
            ]
          },
          "metadata": {
            "tags": []
          },
          "execution_count": 47
        }
      ]
    },
    {
      "cell_type": "markdown",
      "metadata": {
        "id": "EPTIg05g4fR4"
      },
      "source": [
        "Por fim, verificamos a porcentagem dos valores nulos para cada variável, a maior taxa (13,59%) é para a variável *Rating*. Quando realizamos a descrição dos dados vamos também preencher esses valores."
      ]
    },
    {
      "cell_type": "code",
      "metadata": {
        "id": "g7ClK5LO9j0c",
        "outputId": "10a6001b-3f86-4cf9-ee01-8e03631e2e71",
        "colab": {
          "base_uri": "https://localhost:8080/",
          "height": 265
        }
      },
      "source": [
        "data.isnull().mean()"
      ],
      "execution_count": null,
      "outputs": [
        {
          "output_type": "execute_result",
          "data": {
            "text/plain": [
              "App               0.000000\n",
              "Category          0.000000\n",
              "Rating            0.000000\n",
              "Reviews           0.000000\n",
              "Size              0.000000\n",
              "Installs          0.000000\n",
              "Type              0.000000\n",
              "Price             0.000000\n",
              "Content Rating    0.000000\n",
              "Genres            0.000000\n",
              "Last Updated      0.000000\n",
              "Current Ver       0.000738\n",
              "Android Ver       0.000185\n",
              "dtype: float64"
            ]
          },
          "metadata": {
            "tags": []
          },
          "execution_count": 48
        }
      ]
    },
    {
      "cell_type": "markdown",
      "metadata": {
        "id": "TzULiMSfvoPt"
      },
      "source": [
        "#DESCRIÇÃO DOS DADOS\n",
        "\n",
        "Nessa etapa vamos descrever os dados para conseguir entender e obter análises quantitativas do DataFrame. Essa descrição é realizada diante das variáveis numéricas, categóricas e de identificação, além de analisar a correlação dos dados. \n",
        "\n"
      ]
    },
    {
      "cell_type": "markdown",
      "metadata": {
        "id": "pCmCTrUnDwnf"
      },
      "source": [
        "##Variáveis numéricas\n",
        "\n"
      ]
    },
    {
      "cell_type": "markdown",
      "metadata": {
        "id": "QSNTwSC-_fa_"
      },
      "source": [
        "###DataFrame *data_user_reviews*\n",
        "Inicialmente utilizamos o método *hist()* do pandas onde percebemos que as variávei *Sentiment_Polarity* tem variáção entre -1 e 1, sua distribuição é maior em 0.0 e em valores positivos. Já *Sentiment_Subjectivity* tem variação entre 0 e 1, com distribuição maior em 0.5, mas também com distribuição considerável em 0.0."
      ]
    },
    {
      "cell_type": "code",
      "metadata": {
        "id": "VFFYvSJTYk_e",
        "outputId": "86a0e792-cfb6-49bf-a4f1-ac89fe3e7713",
        "colab": {
          "base_uri": "https://localhost:8080/",
          "height": 498
        }
      },
      "source": [
        "hist = data_user_reviews.hist(bins=9, figsize=(12,8))"
      ],
      "execution_count": null,
      "outputs": [
        {
          "output_type": "display_data",
          "data": {
            "image/png": "[encoded data removed]",
            "text/plain": [
              "<Figure size 864x576 with 2 Axes>"
            ]
          },
          "metadata": {
            "tags": [],
            "needs_background": "light"
          }
        }
      ]
    },
    {
      "cell_type": "markdown",
      "metadata": {
        "id": "wyhEo2TBBVfs"
      },
      "source": [
        "A seguir obtemos também a distribuição da variável categórica *Sentiment* onde percemos que a maioria dos usuário reagiu de forma positiva em relação aos aplicativos e seguindo com reação negativa e neutra."
      ]
    },
    {
      "cell_type": "code",
      "metadata": {
        "id": "rxvEUtVNYlC2",
        "outputId": "5519c475-cedb-4ce3-a993-758743161016",
        "colab": {
          "base_uri": "https://localhost:8080/",
          "height": 316
        }
      },
      "source": [
        "sentiment = data_user_reviews[['App', 'Sentiment']].groupby('Sentiment').count().sort_values(by='App', ascending=False)\n",
        "fig = sentiment.plot.bar()"
      ],
      "execution_count": null,
      "outputs": [
        {
          "output_type": "display_data",
          "data": {
            "image/png": "[encoded data removed]",
            "text/plain": [
              "<Figure size 432x288 with 1 Axes>"
            ]
          },
          "metadata": {
            "tags": [],
            "needs_background": "light"
          }
        }
      ]
    },
    {
      "cell_type": "markdown",
      "metadata": {
        "id": "4qKXE8HbCJgM"
      },
      "source": [
        "Agora separamos agrupamos pelo tipo da variável *Sentiment* a contagem que cada aplicativo teve em relação aquele sentimento,"
      ]
    },
    {
      "cell_type": "code",
      "metadata": {
        "id": "tH8cTGapl9yR",
        "outputId": "50fb4c54-b361-4b49-a76d-5ad3be716bc2",
        "colab": {
          "base_uri": "https://localhost:8080/",
          "height": 406
        }
      },
      "source": [
        "app = pd.DataFrame(data_user_reviews[['Sentiment','App']].groupby(['Sentiment','App']).Sentiment.count())\n",
        "app.index = app.index.set_names(['Sentiment_Type', 'App'])\n",
        "# app.reset_index(inplace=True)\n",
        "# app\n",
        "app.reset_index(inplace=True)  \n",
        "app\n"
      ],
      "execution_count": null,
      "outputs": [
        {
          "output_type": "execute_result",
          "data": {
            "text/html": [
              "<div>\n",
              "<style scoped>\n",
              "    .dataframe tbody tr th:only-of-type {\n",
              "        vertical-align: middle;\n",
              "    }\n",
              "\n",
              "    .dataframe tbody tr th {\n",
              "        vertical-align: top;\n",
              "    }\n",
              "\n",
              "    .dataframe thead th {\n",
              "        text-align: right;\n",
              "    }\n",
              "</style>\n",
              "<table border=\"1\" class=\"dataframe\">\n",
              "  <thead>\n",
              "    <tr style=\"text-align: right;\">\n",
              "      <th></th>\n",
              "      <th>Sentiment_Type</th>\n",
              "      <th>App</th>\n",
              "      <th>Sentiment</th>\n",
              "    </tr>\n",
              "  </thead>\n",
              "  <tbody>\n",
              "    <tr>\n",
              "      <th>0</th>\n",
              "      <td>Negative</td>\n",
              "      <td>10 Best Foods for You</td>\n",
              "      <td>10</td>\n",
              "    </tr>\n",
              "    <tr>\n",
              "      <th>1</th>\n",
              "      <td>Negative</td>\n",
              "      <td>104 找工作 - 找工作 找打工 找兼職 履歷健檢 履歷診療室</td>\n",
              "      <td>1</td>\n",
              "    </tr>\n",
              "    <tr>\n",
              "      <th>2</th>\n",
              "      <td>Negative</td>\n",
              "      <td>11st</td>\n",
              "      <td>7</td>\n",
              "    </tr>\n",
              "    <tr>\n",
              "      <th>3</th>\n",
              "      <td>Negative</td>\n",
              "      <td>1800 Contacts - Lens Store</td>\n",
              "      <td>6</td>\n",
              "    </tr>\n",
              "    <tr>\n",
              "      <th>4</th>\n",
              "      <td>Negative</td>\n",
              "      <td>1LINE – One Line with One Touch</td>\n",
              "      <td>8</td>\n",
              "    </tr>\n",
              "    <tr>\n",
              "      <th>...</th>\n",
              "      <td>...</td>\n",
              "      <td>...</td>\n",
              "      <td>...</td>\n",
              "    </tr>\n",
              "    <tr>\n",
              "      <th>2371</th>\n",
              "      <td>Positive</td>\n",
              "      <td>Hotels.com: Book Hotel Rooms &amp; Find Vacation D...</td>\n",
              "      <td>39</td>\n",
              "    </tr>\n",
              "    <tr>\n",
              "      <th>2372</th>\n",
              "      <td>Positive</td>\n",
              "      <td>Hotspot Shield Free VPN Proxy &amp; Wi-Fi Security</td>\n",
              "      <td>17</td>\n",
              "    </tr>\n",
              "    <tr>\n",
              "      <th>2373</th>\n",
              "      <td>Positive</td>\n",
              "      <td>Hotstar</td>\n",
              "      <td>14</td>\n",
              "    </tr>\n",
              "    <tr>\n",
              "      <th>2374</th>\n",
              "      <td>Positive</td>\n",
              "      <td>Hotwire Hotel &amp; Car Rental App</td>\n",
              "      <td>16</td>\n",
              "    </tr>\n",
              "    <tr>\n",
              "      <th>2375</th>\n",
              "      <td>Positive</td>\n",
              "      <td>Housing-Real Estate &amp; Property</td>\n",
              "      <td>8</td>\n",
              "    </tr>\n",
              "  </tbody>\n",
              "</table>\n",
              "<p>2376 rows × 3 columns</p>\n",
              "</div>"
            ],
            "text/plain": [
              "     Sentiment_Type  ... Sentiment\n",
              "0          Negative  ...        10\n",
              "1          Negative  ...         1\n",
              "2          Negative  ...         7\n",
              "3          Negative  ...         6\n",
              "4          Negative  ...         8\n",
              "...             ...  ...       ...\n",
              "2371       Positive  ...        39\n",
              "2372       Positive  ...        17\n",
              "2373       Positive  ...        14\n",
              "2374       Positive  ...        16\n",
              "2375       Positive  ...         8\n",
              "\n",
              "[2376 rows x 3 columns]"
            ]
          },
          "metadata": {
            "tags": []
          },
          "execution_count": 54
        }
      ]
    },
    {
      "cell_type": "markdown",
      "metadata": {
        "id": "coj7tOFFC8dP"
      },
      "source": [
        "Separando agora os tipos da variável *Sentiment* em DataFrames específicos, "
      ]
    },
    {
      "cell_type": "code",
      "metadata": {
        "id": "QT4wwDnuwloo"
      },
      "source": [
        "app_negative=app[app['Sentiment_Type'] == 'Negative']\n",
        "app_neutral=app[app['Sentiment_Type'] == 'Neutral']\n",
        "app_positive=app[app['Sentiment_Type'] == 'Positive']"
      ],
      "execution_count": null,
      "outputs": []
    },
    {
      "cell_type": "markdown",
      "metadata": {
        "id": "N_zX34K4DKo8"
      },
      "source": [
        "Por fim, visualizamos os 10 primeiros aplicativos que tiveram a pior avalização dos usuários e também os 10 primeiros aplicativos que tiveram a melhor avaliação dos usuários."
      ]
    },
    {
      "cell_type": "code",
      "metadata": {
        "id": "aKqaW9mkYlQ-",
        "outputId": "76c65668-6933-4eba-e61c-e18f562a447a",
        "colab": {
          "base_uri": "https://localhost:8080/",
          "height": 637
        }
      },
      "source": [
        "app_sns_negative = app_negative.sort_values(by='Sentiment',ascending=False).head(10)\n",
        "app_sns_positive = app_positive.sort_values(by='Sentiment',ascending=False).head(10)\n",
        "\n",
        "fig, axes = plt.subplots(2, figsize=(28, 4), sharey=True)\n",
        "fig.subplots_adjust( bottom=.04, top=2.4)\n",
        "sns.barplot( x=app_sns_negative.App,  y=app_sns_negative.Sentiment,ax=axes[0]).set_title('negative')\n",
        "sns.barplot(x=app_sns_positive.App,  y=app_sns_positive.Sentiment,ax=axes[1]).set_title('positive')"
      ],
      "execution_count": null,
      "outputs": [
        {
          "output_type": "execute_result",
          "data": {
            "text/plain": [
              "Text(0.5, 1.0, 'positive')"
            ]
          },
          "metadata": {
            "tags": []
          },
          "execution_count": 60
        },
        {
          "output_type": "display_data",
          "data": {
            "image/png": "[encoded data removed]",
            "text/plain": [
              "<Figure size 2016x288 with 2 Axes>"
            ]
          },
          "metadata": {
            "tags": [],
            "needs_background": "light"
          }
        }
      ]
    },
    {
      "cell_type": "code",
      "metadata": {
        "id": "xq0uPIfLYlU2"
      },
      "source": [
        ""
      ],
      "execution_count": null,
      "outputs": []
    },
    {
      "cell_type": "code",
      "metadata": {
        "id": "fidBCMCVYlK7"
      },
      "source": [
        ""
      ],
      "execution_count": null,
      "outputs": []
    },
    {
      "cell_type": "markdown",
      "metadata": {
        "id": "ijJwfGt-DxnA"
      },
      "source": [
        "###DataFrame *data*"
      ]
    },
    {
      "cell_type": "markdown",
      "metadata": {
        "id": "afuSoOCjyfJW"
      },
      "source": [
        "Na sequência verificamos também a distribuição dos dados de *data* com o método *hist()*,"
      ]
    },
    {
      "cell_type": "code",
      "metadata": {
        "id": "P74CF6jwKsOG",
        "outputId": "fdbedd6c-f044-4081-cacb-121e9c60ef26",
        "colab": {
          "base_uri": "https://localhost:8080/",
          "height": 499
        }
      },
      "source": [
        "hist = data.hist(bins=9, figsize=(12,8))"
      ],
      "execution_count": null,
      "outputs": [
        {
          "output_type": "display_data",
          "data": {
            "image/png": "[encoded data removed]",
            "text/plain": [
              "<Figure size 864x576 with 6 Axes>"
            ]
          },
          "metadata": {
            "tags": [],
            "needs_background": "light"
          }
        }
      ]
    },
    {
      "cell_type": "markdown",
      "metadata": {
        "id": "Tg9-9iQB0Ery"
      },
      "source": [
        "Desse modo, foi possível concluir que para as variáveis podemos destacar as seguintes observações,\n",
        "*   *Rating*: Apresenta maior concentração em valores próximos de 4, porém, existem variações entre 1 e 5.\n",
        "*   *Reviews*:Possuem alta variação. Os valores estão entre a casa de 10¹ e 10⁷.\n",
        "*   *Size*: Também possui alta variação, mas os valores estão concentrados na casa de 10⁶.\n",
        "*   *Installs*: Apresenta a maior variação de todas as variável.\n",
        "*   *Price*: Possui variação baixa e a maioria dos valores estão em 0.\n",
        "\n"
      ]
    },
    {
      "cell_type": "markdown",
      "metadata": {
        "id": "e7r0wcXM0_P5"
      },
      "source": [
        "##Variáveis categóricas e de identificação\n",
        "\n",
        "As análises realizadas a seguir buscam relacionar também os dados categóricos e de identificação. Primeiro obtivemos os dez primeiros aplicativos que possuiam maior número de *Installs*,\n",
        "\n"
      ]
    },
    {
      "cell_type": "code",
      "metadata": {
        "id": "5iW_shTEKsVZ",
        "outputId": "df118ba6-2ccc-4f17-d5e1-61b41c1cdbfc",
        "colab": {
          "base_uri": "https://localhost:8080/",
          "height": 531
        }
      },
      "source": [
        "data.sort_values(by='Installs', ascending=False).head(10)"
      ],
      "execution_count": null,
      "outputs": [
        {
          "output_type": "execute_result",
          "data": {
            "text/html": [
              "<div>\n",
              "<style scoped>\n",
              "    .dataframe tbody tr th:only-of-type {\n",
              "        vertical-align: middle;\n",
              "    }\n",
              "\n",
              "    .dataframe tbody tr th {\n",
              "        vertical-align: top;\n",
              "    }\n",
              "\n",
              "    .dataframe thead th {\n",
              "        text-align: right;\n",
              "    }\n",
              "</style>\n",
              "<table border=\"1\" class=\"dataframe\">\n",
              "  <thead>\n",
              "    <tr style=\"text-align: right;\">\n",
              "      <th></th>\n",
              "      <th>App</th>\n",
              "      <th>Category</th>\n",
              "      <th>Rating</th>\n",
              "      <th>Reviews</th>\n",
              "      <th>Size</th>\n",
              "      <th>Installs</th>\n",
              "      <th>Type</th>\n",
              "      <th>Price</th>\n",
              "      <th>Content Rating</th>\n",
              "      <th>Genres</th>\n",
              "      <th>Last Updated</th>\n",
              "      <th>Current Ver</th>\n",
              "      <th>Android Ver</th>\n",
              "    </tr>\n",
              "  </thead>\n",
              "  <tbody>\n",
              "    <tr>\n",
              "      <th>3896</th>\n",
              "      <td>Subway Surfers</td>\n",
              "      <td>GAME</td>\n",
              "      <td>4.5</td>\n",
              "      <td>27711703.0</td>\n",
              "      <td>76000000</td>\n",
              "      <td>1.000000e+09</td>\n",
              "      <td>Free</td>\n",
              "      <td>0.0</td>\n",
              "      <td>Everyone 10+</td>\n",
              "      <td>Arcade</td>\n",
              "      <td>July 12, 2018</td>\n",
              "      <td>1.90.0</td>\n",
              "      <td>4.1 and up</td>\n",
              "    </tr>\n",
              "    <tr>\n",
              "      <th>3943</th>\n",
              "      <td>Facebook</td>\n",
              "      <td>SOCIAL</td>\n",
              "      <td>4.1</td>\n",
              "      <td>78128208.0</td>\n",
              "      <td>0</td>\n",
              "      <td>1.000000e+09</td>\n",
              "      <td>Free</td>\n",
              "      <td>0.0</td>\n",
              "      <td>Everyone 10+</td>\n",
              "      <td>Social</td>\n",
              "      <td>August 3, 2018</td>\n",
              "      <td>Varies with device</td>\n",
              "      <td>Varies with device</td>\n",
              "    </tr>\n",
              "    <tr>\n",
              "      <th>335</th>\n",
              "      <td>Messenger – Text and Video Chat for Free</td>\n",
              "      <td>COMMUNICATION</td>\n",
              "      <td>4.0</td>\n",
              "      <td>56642847.0</td>\n",
              "      <td>0</td>\n",
              "      <td>1.000000e+09</td>\n",
              "      <td>Free</td>\n",
              "      <td>0.0</td>\n",
              "      <td>Everyone</td>\n",
              "      <td>Communication</td>\n",
              "      <td>August 1, 2018</td>\n",
              "      <td>Varies with device</td>\n",
              "      <td>Varies with device</td>\n",
              "    </tr>\n",
              "    <tr>\n",
              "      <th>3523</th>\n",
              "      <td>Google Drive</td>\n",
              "      <td>PRODUCTIVITY</td>\n",
              "      <td>4.4</td>\n",
              "      <td>2731211.0</td>\n",
              "      <td>0</td>\n",
              "      <td>1.000000e+09</td>\n",
              "      <td>Free</td>\n",
              "      <td>0.0</td>\n",
              "      <td>Everyone</td>\n",
              "      <td>Productivity</td>\n",
              "      <td>August 6, 2018</td>\n",
              "      <td>Varies with device</td>\n",
              "      <td>Varies with device</td>\n",
              "    </tr>\n",
              "    <tr>\n",
              "      <th>3565</th>\n",
              "      <td>Google Drive</td>\n",
              "      <td>PRODUCTIVITY</td>\n",
              "      <td>4.4</td>\n",
              "      <td>2731211.0</td>\n",
              "      <td>0</td>\n",
              "      <td>1.000000e+09</td>\n",
              "      <td>Free</td>\n",
              "      <td>0.0</td>\n",
              "      <td>Everyone</td>\n",
              "      <td>Productivity</td>\n",
              "      <td>August 6, 2018</td>\n",
              "      <td>Varies with device</td>\n",
              "      <td>Varies with device</td>\n",
              "    </tr>\n",
              "    <tr>\n",
              "      <th>2884</th>\n",
              "      <td>Google Photos</td>\n",
              "      <td>PHOTOGRAPHY</td>\n",
              "      <td>4.5</td>\n",
              "      <td>10859051.0</td>\n",
              "      <td>0</td>\n",
              "      <td>1.000000e+09</td>\n",
              "      <td>Free</td>\n",
              "      <td>0.0</td>\n",
              "      <td>Everyone</td>\n",
              "      <td>Photography</td>\n",
              "      <td>August 6, 2018</td>\n",
              "      <td>Varies with device</td>\n",
              "      <td>Varies with device</td>\n",
              "    </tr>\n",
              "    <tr>\n",
              "      <th>3665</th>\n",
              "      <td>YouTube</td>\n",
              "      <td>VIDEO_PLAYERS</td>\n",
              "      <td>4.3</td>\n",
              "      <td>25655305.0</td>\n",
              "      <td>0</td>\n",
              "      <td>1.000000e+09</td>\n",
              "      <td>Free</td>\n",
              "      <td>0.0</td>\n",
              "      <td>Everyone 10+</td>\n",
              "      <td>Video Players &amp; Editors</td>\n",
              "      <td>August 2, 2018</td>\n",
              "      <td>Varies with device</td>\n",
              "      <td>Varies with device</td>\n",
              "    </tr>\n",
              "    <tr>\n",
              "      <th>2853</th>\n",
              "      <td>Google Photos</td>\n",
              "      <td>PHOTOGRAPHY</td>\n",
              "      <td>4.5</td>\n",
              "      <td>10858538.0</td>\n",
              "      <td>0</td>\n",
              "      <td>1.000000e+09</td>\n",
              "      <td>Free</td>\n",
              "      <td>0.0</td>\n",
              "      <td>Everyone</td>\n",
              "      <td>Photography</td>\n",
              "      <td>August 6, 2018</td>\n",
              "      <td>Varies with device</td>\n",
              "      <td>Varies with device</td>\n",
              "    </tr>\n",
              "    <tr>\n",
              "      <th>4234</th>\n",
              "      <td>Skype - free IM &amp; video calls</td>\n",
              "      <td>COMMUNICATION</td>\n",
              "      <td>4.1</td>\n",
              "      <td>10484169.0</td>\n",
              "      <td>0</td>\n",
              "      <td>1.000000e+09</td>\n",
              "      <td>Free</td>\n",
              "      <td>0.0</td>\n",
              "      <td>Everyone</td>\n",
              "      <td>Communication</td>\n",
              "      <td>August 3, 2018</td>\n",
              "      <td>Varies with device</td>\n",
              "      <td>Varies with device</td>\n",
              "    </tr>\n",
              "    <tr>\n",
              "      <th>3687</th>\n",
              "      <td>Google Play Movies &amp; TV</td>\n",
              "      <td>VIDEO_PLAYERS</td>\n",
              "      <td>3.7</td>\n",
              "      <td>906384.0</td>\n",
              "      <td>0</td>\n",
              "      <td>1.000000e+09</td>\n",
              "      <td>Free</td>\n",
              "      <td>0.0</td>\n",
              "      <td>Everyone 10+</td>\n",
              "      <td>Video Players &amp; Editors</td>\n",
              "      <td>August 6, 2018</td>\n",
              "      <td>Varies with device</td>\n",
              "      <td>Varies with device</td>\n",
              "    </tr>\n",
              "  </tbody>\n",
              "</table>\n",
              "</div>"
            ],
            "text/plain": [
              "                                           App  ...         Android Ver\n",
              "3896                            Subway Surfers  ...          4.1 and up\n",
              "3943                                  Facebook  ...  Varies with device\n",
              "335   Messenger – Text and Video Chat for Free  ...  Varies with device\n",
              "3523                              Google Drive  ...  Varies with device\n",
              "3565                              Google Drive  ...  Varies with device\n",
              "2884                             Google Photos  ...  Varies with device\n",
              "3665                                   YouTube  ...  Varies with device\n",
              "2853                             Google Photos  ...  Varies with device\n",
              "4234             Skype - free IM & video calls  ...  Varies with device\n",
              "3687                   Google Play Movies & TV  ...  Varies with device\n",
              "\n",
              "[10 rows x 13 columns]"
            ]
          },
          "metadata": {
            "tags": []
          },
          "execution_count": 61
        }
      ]
    },
    {
      "cell_type": "markdown",
      "metadata": {
        "id": "DO7C_Vzj6JAF"
      },
      "source": [
        "Os aplicativos ainda foram agrupados pela variável *Category* para obter as dez categorias que possuíam maior agrupamento de aplicativos."
      ]
    },
    {
      "cell_type": "code",
      "metadata": {
        "id": "3bJEAYj0Pl3L",
        "outputId": "f26bcc3d-f82f-45a6-e4cb-7da9ce9cbd91",
        "colab": {
          "base_uri": "https://localhost:8080/",
          "height": 362
        }
      },
      "source": [
        "top10_category = data[['App', 'Category']].groupby('Category').count().sort_values(by='App', ascending=False).head(10)\n",
        "fig = top10_category.plot.bar()\n"
      ],
      "execution_count": null,
      "outputs": [
        {
          "output_type": "display_data",
          "data": {
            "image/png": "[encoded data removed]",
            "text/plain": [
              "<Figure size 432x288 with 1 Axes>"
            ]
          },
          "metadata": {
            "tags": [],
            "needs_background": "light"
          }
        }
      ]
    },
    {
      "cell_type": "markdown",
      "metadata": {
        "id": "KBv7DjxQ6h3a"
      },
      "source": [
        "Já pela contagem dos aplicativos agrupados por *Content Rating* percebemos que os aplicativos livre para todas as faixas etárias estão em maioria, seguidos pelos aplicativos voltados para pessoas maiores de 10 anos e pessoas maiores de 18 anos."
      ]
    },
    {
      "cell_type": "code",
      "metadata": {
        "id": "A2hLrF0oPl-8",
        "outputId": "b5250140-82ff-448a-fa0b-1eda6922b116",
        "colab": {
          "base_uri": "https://localhost:8080/",
          "height": 349
        }
      },
      "source": [
        "contentRating = data[['App', 'Content Rating']].groupby('Content Rating').count().sort_values(by='App', ascending=False)\n",
        "fig = contentRating.plot.bar()"
      ],
      "execution_count": null,
      "outputs": [
        {
          "output_type": "display_data",
          "data": {
            "image/png": "[encoded data removed]",
            "text/plain": [
              "<Figure size 432x288 with 1 Axes>"
            ]
          },
          "metadata": {
            "tags": [],
            "needs_background": "light"
          }
        }
      ]
    },
    {
      "cell_type": "markdown",
      "metadata": {
        "id": "6nj-wSvK7PUW"
      },
      "source": [
        "A contagem dos aplicativos pagos e gratuitos mostram que os gratuitos estão em maior quantidade."
      ]
    },
    {
      "cell_type": "code",
      "metadata": {
        "id": "ncF-0MwfPmFk",
        "outputId": "e19952bf-c95b-4749-ee24-c940dce32a35",
        "colab": {
          "base_uri": "https://localhost:8080/",
          "height": 290
        }
      },
      "source": [
        "price = data[['App', 'Type']].groupby('Type').count().sort_values(by='App', ascending=False)\n",
        "fig = price.plot.bar()"
      ],
      "execution_count": null,
      "outputs": [
        {
          "output_type": "display_data",
          "data": {
            "image/png": "[encoded data removed]",
            "text/plain": [
              "<Figure size 432x288 with 1 Axes>"
            ]
          },
          "metadata": {
            "tags": [],
            "needs_background": "light"
          }
        }
      ]
    },
    {
      "cell_type": "markdown",
      "metadata": {
        "id": "Btf4iQSp7Y8s"
      },
      "source": [
        "Já em relação a variável *Rating* temos que a maioria dos aplicativos possuem avaliação a partir de 4 estrelas. Ao dividir essa avaliação para os aplicativos pagas e gratuitos na mesma figura percebemos que apesar dos aplicativos pagas estarem em menor número eles estão mais bem avaliados, pois o pico da distribuição destes está a frente do pico da distribuição dos aplicativos gratuitos."
      ]
    },
    {
      "cell_type": "code",
      "metadata": {
        "id": "8_mG0r__SdL4",
        "outputId": "dd641711-35d4-4a9d-fc50-3f7700d246ca",
        "colab": {
          "base_uri": "https://localhost:8080/",
          "height": 365
        }
      },
      "source": [
        "fig, axes = plt.subplots(1, 2, figsize=(25, 3), sharey=True)\n",
        "fig.subplots_adjust( bottom=0.05, top=1.5)\n",
        "sns.countplot(hue=data.Type, x=data.Rating,ax=axes[0])\n",
        "sns.countplot(x=data.Rating,ax=axes[1])"
      ],
      "execution_count": null,
      "outputs": [
        {
          "output_type": "execute_result",
          "data": {
            "text/plain": [
              "<matplotlib.axes._subplots.AxesSubplot at 0x7f15f4c9ecf8>"
            ]
          },
          "metadata": {
            "tags": []
          },
          "execution_count": 53
        },
        {
          "output_type": "display_data",
          "data": {
            "image/png": "[encoded data removed]",
            "text/plain": [
              "<Figure size 1800x216 with 2 Axes>"
            ]
          },
          "metadata": {
            "tags": [],
            "needs_background": "light"
          }
        }
      ]
    }
  ]
}