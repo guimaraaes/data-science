{
  "nbformat": 4,
  "nbformat_minor": 0,
  "metadata": {
    "colab": {
      "name": "kaggle-titanic.ipynb",
      "provenance": [],
      "collapsed_sections": [],
      "authorship_tag": "ABX9TyN8couS2PTb6rQ4wfmPUXNP",
      "include_colab_link": true
    },
    "kernelspec": {
      "name": "python3",
      "display_name": "Python 3"
    }
  },
  "cells": [
    {
      "cell_type": "markdown",
      "metadata": {
        "id": "view-in-github",
        "colab_type": "text"
      },
      "source": [
        "<a href=\"https://colab.research.google.com/github/guimaraaes/data-science/blob/master/kaggle_titanic.ipynb\" target=\"_parent\"><img src=\"https://colab.research.google.com/assets/colab-badge.svg\" alt=\"Open In Colab\"/></a>"
      ]
    },
    {
      "cell_type": "code",
      "metadata": {
        "id": "UvmgBTDfLly5"
      },
      "source": [
        "import numpy as np # linear algebra\n",
        "import pandas as pd # data processing, CSV file I/O (e.g. pd.read_csv)\n",
        "import seaborn as sns\n",
        "import matplotlib.pyplot as plt\n",
        "from collections import Counter\n",
        "%matplotlib inline\n",
        "from pandas.plotting import scatter_matrix\n",
        "import warnings\n",
        "warnings.filterwarnings('ignore') "
      ],
      "execution_count": 60,
      "outputs": []
    },
    {
      "cell_type": "markdown",
      "metadata": {
        "id": "fdMyY64QTIOy"
      },
      "source": [
        "#DESCRIÇÃO DA PROBLEMÁTICA\n",
        "Esse notebook consiste em descrever os dados do naufrágio do Titanic e com Machine Learning (ML) predizer se os passageiros no DataFrame de teste vão sobreviver ou não. No database do Kaggle temos,\n",
        "\n",
        "> Preveja a sobrevivência no Titanic e familiarize-se com os fundamentos do ML\n",
        "\n",
        "As variáveis do banco de dados analisado no arquivo *train.csv* e *test.csv* são:\n",
        "*   **survival**: sobrevivência; \n",
        "*   **pclass**: tipo de classe de embarque; \n",
        "*   **sex**: sexo; \n",
        "*   **Age**: idade; \n",
        "*   **sibsp**: número de irmão ou conjuguês a bordo; \n",
        "*   **parch**: número de parentes/crianças a bordo; \n",
        "*   **ticket**: número do tiket; \n",
        "*   **fare**: taxa paga pelo passgeiro; \n",
        "*   **cabin**: cabine; \n",
        "*   **embarked**: porto de embarque."
      ]
    },
    {
      "cell_type": "markdown",
      "metadata": {
        "id": "mSZt_vMBA4OL"
      },
      "source": [
        "#OBTENÇÃO DOS DADOS\n",
        "Nessa etapa é descrito duas formas de obter os dados. Deve ser escolhida apenas uma e atentar para quais linhas podem ser executadas sempre ou não.\n"
      ]
    },
    {
      "cell_type": "markdown",
      "metadata": {
        "id": "5XoUMLH1A8yj"
      },
      "source": [
        "##Kaggle e Google Drive\n",
        "> Para realizar esse método é necessário ter uma conta no Kaggle e ter configurado o seu Google Drive para executar o download.\n",
        "\n",
        "\n",
        "No código a seguir são realizadas as seguintes ações:\n",
        "1.   conexão com o google drive;\n",
        "\n",
        "2.   download dos dados obtidos no [Titanic: Machine Learning from Disaster](https://www.kaggle.com/c/titanic/overview) para o drive (apenas na primeira vez);\n",
        "\n",
        "3.   atribuição destes dados à variável *data_train* e *data_test* com o biblioteca pandas."
      ]
    },
    {
      "cell_type": "code",
      "metadata": {
        "id": "ydduktq1TIfn",
        "outputId": "8805380f-0623-4295-f021-a6354fc230b3",
        "colab": {
          "base_uri": "https://localhost:8080/",
          "height": 52
        }
      },
      "source": [
        "# 1\n",
        "from google.colab import drive\n",
        "drive.mount('/content/gdrive')\n",
        "import os\n",
        "os.environ['KAGGLE_CONFIG_DIR'] = \"/content/gdrive/My Drive/Kaggle\"\n",
        "%cd /content/gdrive/My Drive/Kaggle/titanic-machine_learning_from_disaster/\n",
        "\n",
        "# 2\n",
        "#descomentar apenas para o primeiro download\n",
        "# !kaggle competitions download -c titanic\n",
        "# !unzip \\*.zip  && rm *.zip\n",
        "\n",
        "# # 3\n",
        "data_train=pd.read_csv('/content/gdrive/My Drive/Kaggle/titanic-machine_learning_from_disaster/train.csv')\n",
        "data_test=pd.read_csv('/content/gdrive/My Drive/Kaggle/titanic-machine_learning_from_disaster/test.csv')"
      ],
      "execution_count": 61,
      "outputs": [
        {
          "output_type": "stream",
          "text": [
            "Drive already mounted at /content/gdrive; to attempt to forcibly remount, call drive.mount(\"/content/gdrive\", force_remount=True).\n",
            "/content/gdrive/My Drive/Kaggle/titanic-machine_learning_from_disaster\n"
          ],
          "name": "stdout"
        }
      ]
    },
    {
      "cell_type": "markdown",
      "metadata": {
        "id": "LRxsTPxaBLzY"
      },
      "source": [
        "## GitHub\n",
        "\n",
        "Além disso, também disponibilizei uma cópia dos dados do Kaggle no meu GitHub."
      ]
    },
    {
      "cell_type": "code",
      "metadata": {
        "id": "gPi5rCn4BMLx"
      },
      "source": [
        "# data_train=pd.read_csv('/content/gdrive/My Drive/Kaggle/spotify-data-with-audio-features/train.csv')\n",
        "# data_test=pd.read_csv('/content/gdrive/My Drive/Kaggle/spotify-data-with-audio-features/test.csv')"
      ],
      "execution_count": 62,
      "outputs": []
    },
    {
      "cell_type": "markdown",
      "metadata": {
        "id": "8HeoQt0hCi5x"
      },
      "source": [
        "# TRATAMENTO DOS DADOS\n",
        "\n",
        "Nessa etapa são realizadas diversas análises para conseguir identificar quais modificações podem ser realizadas nos dados para conseguir manipular eles e adquirir *insights*. Primeiro observamos que ambos os Dataframes são compostos de 12 variáveis e 891 dados para o de train e o no test temos 11 variáveis e 9239 dados. A diferença de uma variável é devido aos dados de treino informarem se o passageiro sobreviveu ou não, após o processamento dos dados de teste na ML vamos definir se os passageiros sobreviveram ou não."
      ]
    },
    {
      "cell_type": "code",
      "metadata": {
        "id": "M_eQU5amUShV",
        "outputId": "9dc3c843-1217-41db-893e-bb8620c3e78e",
        "colab": {
          "base_uri": "https://localhost:8080/",
          "height": 123
        }
      },
      "source": [
        "print('Dimensão do DataFrame data_train')\n",
        "print(\"variáveis: \", data_train.shape[1])\n",
        "print(\"dados:     \", data_train.shape[0])\n",
        "\n",
        "print('Dimensão do DataFrame data_test')\n",
        "print(\"variáveis: \", data_test.shape[1])\n",
        "print(\"dados:     \", data_test.shape[0])"
      ],
      "execution_count": 63,
      "outputs": [
        {
          "output_type": "stream",
          "text": [
            "Dimensão do DataFrame data_train\n",
            "variáveis:  12\n",
            "dados:      891\n",
            "Dimensão do DataFrame data_test\n",
            "variáveis:  11\n",
            "dados:      418\n"
          ],
          "name": "stdout"
        }
      ]
    },
    {
      "cell_type": "markdown",
      "metadata": {
        "id": "3vP3R2UpCDU9"
      },
      "source": [
        "A seguir vamos separa na variável survived os dados os passageiros que sobreviveiram no DataFrame de teste,"
      ]
    },
    {
      "cell_type": "code",
      "metadata": {
        "id": "wGTiOTYILnr9"
      },
      "source": [
        "survived = data_train.Survived\n",
        "data_train.drop('Survived', axis='columns', inplace=True)"
      ],
      "execution_count": 64,
      "outputs": []
    },
    {
      "cell_type": "markdown",
      "metadata": {
        "id": "kEq7Y28RCTy_"
      },
      "source": [
        "Agora com os dois DataFrames com a mesma quantidade de variável vamos concatenar os dois para processar os dados,"
      ]
    },
    {
      "cell_type": "code",
      "metadata": {
        "id": "2XuMGDswCT-X",
        "outputId": "22c84cbb-d3f9-4cd9-9337-206f5e0386b5",
        "colab": {
          "base_uri": "https://localhost:8080/",
          "height": 70
        }
      },
      "source": [
        "train_lines = data_train.shape[0]\n",
        "data = pd.concat([data_train, data_test])\n",
        "\n",
        "print('Dimensão do DataFrame data')\n",
        "print(\"variáveis: \", data.shape[1])\n",
        "print(\"dados:     \", data.shape[0])"
      ],
      "execution_count": 65,
      "outputs": [
        {
          "output_type": "stream",
          "text": [
            "Dimensão do DataFrame data\n",
            "variáveis:  11\n",
            "dados:      1309\n"
          ],
          "name": "stdout"
        }
      ]
    },
    {
      "cell_type": "markdown",
      "metadata": {
        "id": "jBLSTZmBDOfd"
      },
      "source": [
        "De início vemos que a variável Cabin possui a maior porcentagem de dados nulos, logo, essa variável será excluída do DataFrame. Já as outras variável como Age, Fare e Embarked, vamos realizar manipulações futuras para poder substituir esses valores.\n",
        "\n",
        "\n",
        "\n"
      ]
    },
    {
      "cell_type": "code",
      "metadata": {
        "id": "C_m6gLiNDUq1",
        "outputId": "4890e758-7d0b-4775-9722-11c9182301ab",
        "colab": {
          "base_uri": "https://localhost:8080/",
          "height": 230
        }
      },
      "source": [
        "data.isnull().mean()*100"
      ],
      "execution_count": 66,
      "outputs": [
        {
          "output_type": "execute_result",
          "data": {
            "text/plain": [
              "PassengerId     0.000000\n",
              "Pclass          0.000000\n",
              "Name            0.000000\n",
              "Sex             0.000000\n",
              "Age            20.091673\n",
              "SibSp           0.000000\n",
              "Parch           0.000000\n",
              "Ticket          0.000000\n",
              "Fare            0.076394\n",
              "Cabin          77.463713\n",
              "Embarked        0.152788\n",
              "dtype: float64"
            ]
          },
          "metadata": {
            "tags": []
          },
          "execution_count": 66
        }
      ]
    },
    {
      "cell_type": "markdown",
      "metadata": {
        "id": "5QM1EzftD0R8"
      },
      "source": [
        "De variáveis categóricas temos que Pclass, Sex, SibSp, Parck e Embarked."
      ]
    },
    {
      "cell_type": "code",
      "metadata": {
        "id": "WiZ5_YehD0eg",
        "outputId": "ce4059c9-f974-485e-b16f-1127d2cfeb50",
        "colab": {
          "base_uri": "https://localhost:8080/",
          "height": 230
        }
      },
      "source": [
        "data.nunique()"
      ],
      "execution_count": 67,
      "outputs": [
        {
          "output_type": "execute_result",
          "data": {
            "text/plain": [
              "PassengerId    1309\n",
              "Pclass            3\n",
              "Name           1307\n",
              "Sex               2\n",
              "Age              98\n",
              "SibSp             7\n",
              "Parch             8\n",
              "Ticket          929\n",
              "Fare            281\n",
              "Cabin           186\n",
              "Embarked          3\n",
              "dtype: int64"
            ]
          },
          "metadata": {
            "tags": []
          },
          "execution_count": 67
        }
      ]
    },
    {
      "cell_type": "markdown",
      "metadata": {
        "id": "D5FwvObTELCI"
      },
      "source": [
        "Já analisando o tipo dos dados vamos realizar apenas manipulações básicas para converter dados do tipo object para string."
      ]
    },
    {
      "cell_type": "code",
      "metadata": {
        "id": "7XV_NZ_yLnub",
        "outputId": "93530bac-20b5-4fc3-a3fc-c2ce34488471",
        "colab": {
          "base_uri": "https://localhost:8080/",
          "height": 336
        }
      },
      "source": [
        "data.info()"
      ],
      "execution_count": 68,
      "outputs": [
        {
          "output_type": "stream",
          "text": [
            "<class 'pandas.core.frame.DataFrame'>\n",
            "Int64Index: 1309 entries, 0 to 417\n",
            "Data columns (total 11 columns):\n",
            " #   Column       Non-Null Count  Dtype  \n",
            "---  ------       --------------  -----  \n",
            " 0   PassengerId  1309 non-null   int64  \n",
            " 1   Pclass       1309 non-null   int64  \n",
            " 2   Name         1309 non-null   object \n",
            " 3   Sex          1309 non-null   object \n",
            " 4   Age          1046 non-null   float64\n",
            " 5   SibSp        1309 non-null   int64  \n",
            " 6   Parch        1309 non-null   int64  \n",
            " 7   Ticket       1309 non-null   object \n",
            " 8   Fare         1308 non-null   float64\n",
            " 9   Cabin        295 non-null    object \n",
            " 10  Embarked     1307 non-null   object \n",
            "dtypes: float64(2), int64(4), object(5)\n",
            "memory usage: 122.7+ KB\n"
          ],
          "name": "stdout"
        }
      ]
    },
    {
      "cell_type": "markdown",
      "metadata": {
        "id": "CheegLPDGuR-"
      },
      "source": [
        "Para preenchermos os valores nulos das variáveis de idade vamos iniciar selecionando o pronome de tratamento dos passageiros e plotanto o boxplot da variável idade para esse pronome de tratamento,"
      ]
    },
    {
      "cell_type": "code",
      "metadata": {
        "id": "mcpimjZtLnwz",
        "outputId": "b1f7fd1f-5741-4655-ba87-c3fc7d8269cb",
        "colab": {
          "base_uri": "https://localhost:8080/",
          "height": 761
        }
      },
      "source": [
        "treatment = []\n",
        "for my_string in data['Name']:\n",
        "  res = my_string.split(',', maxsplit=1)[-1]\\\n",
        "                .split(maxsplit=1)[0]\n",
        "  treatment.append(res)\n",
        "data['Treatment'] = treatment\n",
        "# data.head(20)\n",
        "count_treatment = data[['Name', 'Treatment']].groupby('Treatment').count()\n",
        "age_treatment = data[['Age', 'Treatment']].groupby('Treatment').median()\n",
        "\n",
        "pd.concat([count_treatment, age_treatment], axis='columns')\n",
        "sns.catplot(kind='box', y='Age', x='Treatment', data=data, height=10, aspect=1)"
      ],
      "execution_count": 69,
      "outputs": [
        {
          "output_type": "execute_result",
          "data": {
            "text/plain": [
              "<seaborn.axisgrid.FacetGrid at 0x7f6a696a7a90>"
            ]
          },
          "metadata": {
            "tags": []
          },
          "execution_count": 69
        },
        {
          "output_type": "display_data",
          "data": {
            "image/png": "[encoded data removed]",
            "text/plain": [
              "<Figure size 720x720 with 1 Axes>"
            ]
          },
          "metadata": {
            "tags": [],
            "needs_background": "light"
          }
        }
      ]
    },
    {
      "cell_type": "markdown",
      "metadata": {
        "id": "E1g_SrGOHgEy"
      },
      "source": [
        "Para diminuir algumas variáveis de tratamento vamos realizar o seguinte agrupamento em uma nova coluna no DataFrame de modo o obter o novo gráfico de boxplot"
      ]
    },
    {
      "cell_type": "code",
      "metadata": {
        "id": "W6qcI_gOTOIV",
        "outputId": "7207fb79-941f-4833-d79c-0a4faf2eb93e",
        "colab": {
          "base_uri": "https://localhost:8080/",
          "height": 761
        }
      },
      "source": [
        "data.loc[(data['Treatment'] == \"Capt.\") , \"Treatment\"] = \"Mr.\"\n",
        "data.loc[(data['Treatment'] == \"Don.\") , \"Treatment\"] = \"Mr.\"\n",
        "data.loc[(data['Treatment'] == \"Col.\") , \"Treatment\"] = \"Mr.\"\n",
        "data.loc[(data['Treatment'] == \"Dona.\") , \"Treatment\"] = \"Mrs.\"\n",
        "data.loc[(data['Treatment'] == \"Dr.\") & (data['Sex'] == \"male\"), \"Treatment\"] = \"Mr.\"\n",
        "data.loc[(data['Treatment'] == \"Dr.\") & (data['Sex'] == \"female\"), \"Treatment\"] = \"Mrs.\"\n",
        "\n",
        "data.loc[(data['Treatment'] == \"Jonkheer.\") , \"Treatment\"] = \"Mr.\"\n",
        "data.loc[(data['Treatment'] == \"Lady.\") , \"Treatment\"] = \"Mrs.\"\n",
        "\n",
        "data.loc[(data['Treatment'] == \"Major.\") , \"Treatment\"] = \"Mr.\"\n",
        "\n",
        "data.loc[(data['Treatment'] == \"Mlle.\") , \"Treatment\"] = \"Miss.\"\n",
        "data.loc[(data['Treatment'] == \"Mme.\") , \"Treatment\"] = \"Miss.\"\n",
        "data.loc[(data['Treatment'] == \"Ms.\") , \"Treatment\"] = \"Miss.\"\n",
        "\n",
        "data.loc[(data['Treatment'] == \"Rev.\") , \"Treatment\"] = \"Mr.\"\n",
        "data.loc[(data['Treatment'] == \"Sir.\") , \"Treatment\"] = \"Mr.\"\n",
        "\n",
        "data.loc[(data['Treatment'] == \"the\") , \"Treatment\"] = \"Miss.\"\n",
        "\n",
        "data.loc[(data['Treatment'] == \"Miss.\") & (data['Age'] <= 15), 'Treatment' ] = 'girl.' \n",
        "data.loc[(data['Treatment'] == \"Mr.\") & (data['Age'] <= 15), 'Treatment' ] = 'Master.' \n",
        "sex_treatment = data[['Sex', 'Treatment']].groupby(['Treatment', 'Sex']).size()\n",
        "sex_treatment\n",
        "sns.catplot(kind='box', y='Age', x='Treatment', data=data, height=10, aspect=1)"
      ],
      "execution_count": 70,
      "outputs": [
        {
          "output_type": "execute_result",
          "data": {
            "text/plain": [
              "<seaborn.axisgrid.FacetGrid at 0x7f6a61ac6940>"
            ]
          },
          "metadata": {
            "tags": []
          },
          "execution_count": 70
        },
        {
          "output_type": "display_data",
          "data": {
            "image/png": "[encoded data removed]",
            "text/plain": [
              "<Figure size 720x720 with 1 Axes>"
            ]
          },
          "metadata": {
            "tags": [],
            "needs_background": "light"
          }
        }
      ]
    },
    {
      "cell_type": "code",
      "metadata": {
        "id": "5fJEngg2IAIS"
      },
      "source": [
        ""
      ],
      "execution_count": 70,
      "outputs": []
    },
    {
      "cell_type": "markdown",
      "metadata": {
        "id": "RYY-ie62H-oR"
      },
      "source": [
        "A seguir obtemos também o valor da média e da mediana para a variável Age agrupada pelo variável Treatment, "
      ]
    },
    {
      "cell_type": "code",
      "metadata": {
        "id": "t3DB6--PH-z7",
        "outputId": "a0a600a5-4248-458b-9bdb-a1e050c153ff",
        "colab": {
          "base_uri": "https://localhost:8080/",
          "height": 227
        }
      },
      "source": [
        "count_treatment = data[['Name', 'Treatment']].groupby('Treatment').count()\n",
        "age_treatment = data[['Age', 'Treatment']].groupby('Treatment').mean()\n",
        "age_treatment2 = data[['Age', 'Treatment']].groupby('Treatment').median()\n",
        "\n",
        "sex_treatment = data[['Sex', 'Treatment']].groupby(['Treatment']).first()\n",
        "pd.concat([count_treatment, age_treatment, age_treatment2, sex_treatment], axis='columns')"
      ],
      "execution_count": 71,
      "outputs": [
        {
          "output_type": "execute_result",
          "data": {
            "text/html": [
              "<div>\n",
              "<style scoped>\n",
              "    .dataframe tbody tr th:only-of-type {\n",
              "        vertical-align: middle;\n",
              "    }\n",
              "\n",
              "    .dataframe tbody tr th {\n",
              "        vertical-align: top;\n",
              "    }\n",
              "\n",
              "    .dataframe thead th {\n",
              "        text-align: right;\n",
              "    }\n",
              "</style>\n",
              "<table border=\"1\" class=\"dataframe\">\n",
              "  <thead>\n",
              "    <tr style=\"text-align: right;\">\n",
              "      <th></th>\n",
              "      <th>Name</th>\n",
              "      <th>Age</th>\n",
              "      <th>Age</th>\n",
              "      <th>Sex</th>\n",
              "    </tr>\n",
              "    <tr>\n",
              "      <th>Treatment</th>\n",
              "      <th></th>\n",
              "      <th></th>\n",
              "      <th></th>\n",
              "      <th></th>\n",
              "    </tr>\n",
              "  </thead>\n",
              "  <tbody>\n",
              "    <tr>\n",
              "      <th>Master.</th>\n",
              "      <td>67</td>\n",
              "      <td>6.314915</td>\n",
              "      <td>6.0</td>\n",
              "      <td>male</td>\n",
              "    </tr>\n",
              "    <tr>\n",
              "      <th>Miss.</th>\n",
              "      <td>212</td>\n",
              "      <td>27.015528</td>\n",
              "      <td>24.0</td>\n",
              "      <td>female</td>\n",
              "    </tr>\n",
              "    <tr>\n",
              "      <th>Mr.</th>\n",
              "      <td>776</td>\n",
              "      <td>32.975793</td>\n",
              "      <td>30.0</td>\n",
              "      <td>male</td>\n",
              "    </tr>\n",
              "    <tr>\n",
              "      <th>Mrs.</th>\n",
              "      <td>200</td>\n",
              "      <td>37.138728</td>\n",
              "      <td>36.0</td>\n",
              "      <td>female</td>\n",
              "    </tr>\n",
              "    <tr>\n",
              "      <th>girl.</th>\n",
              "      <td>54</td>\n",
              "      <td>6.594259</td>\n",
              "      <td>5.0</td>\n",
              "      <td>female</td>\n",
              "    </tr>\n",
              "  </tbody>\n",
              "</table>\n",
              "</div>"
            ],
            "text/plain": [
              "           Name        Age   Age     Sex\n",
              "Treatment                               \n",
              "Master.      67   6.314915   6.0    male\n",
              "Miss.       212  27.015528  24.0  female\n",
              "Mr.         776  32.975793  30.0    male\n",
              "Mrs.        200  37.138728  36.0  female\n",
              "girl.        54   6.594259   5.0  female"
            ]
          },
          "metadata": {
            "tags": []
          },
          "execution_count": 71
        }
      ]
    },
    {
      "cell_type": "markdown",
      "metadata": {
        "id": "XKX6wpZ5H_A5"
      },
      "source": [
        "Como ambas são semelhantes, vamos utilizar a variável median para preencher os valores nulos nas idades do DataFrame. Após essa manipulação temos o plot do novo boxplot de Age agrupado por Treatment,"
      ]
    },
    {
      "cell_type": "code",
      "metadata": {
        "id": "LuoAL5huH_Mk",
        "outputId": "cbaec32a-fa08-4f8c-d48d-affde0cc2ff5",
        "colab": {
          "base_uri": "https://localhost:8080/",
          "height": 761
        }
      },
      "source": [
        "data.loc[(data['Treatment'] == \"Col.\") & (data['Age'].isnull()), \"Age\"] = data.loc[data['Treatment'] == \"Col.\", \"Age\"].median()\n",
        "data.loc[(data['Treatment'] == \"Master.\") & (data['Age'].isnull()), \"Age\"] = data.loc[data['Treatment'] == \"Master.\", \"Age\"].median()\n",
        "data.loc[(data['Treatment'] == \"Miss.\") & (data['Age'].isnull()), \"Age\"] = data.loc[data['Treatment'] == \"Miss.\", \"Age\"].median()\n",
        "data.loc[(data['Treatment'] == \"Mr.\") & (data['Age'].isnull()), \"Age\"] = data.loc[data['Treatment'] == \"Mr.\", \"Age\"].median()\n",
        "data.loc[(data['Treatment'] == \"Mrs.\") & (data['Age'].isnull()), \"Age\"] = data.loc[data['Treatment'] == \"Mrs.\", \"Age\"].median()\n",
        "sns.catplot(kind='box', y='Age', x='Treatment', data=data, height=10, aspect=1)"
      ],
      "execution_count": 72,
      "outputs": [
        {
          "output_type": "execute_result",
          "data": {
            "text/plain": [
              "<seaborn.axisgrid.FacetGrid at 0x7f6a61d63e80>"
            ]
          },
          "metadata": {
            "tags": []
          },
          "execution_count": 72
        },
        {
          "output_type": "display_data",
          "data": {
            "image/png": "[encoded data removed]",
            "text/plain": [
              "<Figure size 720x720 with 1 Axes>"
            ]
          },
          "metadata": {
            "tags": [],
            "needs_background": "light"
          }
        }
      ]
    },
    {
      "cell_type": "markdown",
      "metadata": {
        "id": "Erb7nelJJ-zh"
      },
      "source": [
        ""
      ]
    },
    {
      "cell_type": "code",
      "metadata": {
        "id": "oTUUVG1oJ--D"
      },
      "source": [
        "# data.loc[(data['Treatment'] == \"Col.\") , \"Age\"] = data.loc[data['Treatment'] == \"Col.\", \"Age\"].median()\n",
        "# data.loc[(data['Treatment'] == \"Master.\") , \"Age\"] = data.loc[data['Treatment'] == \"Master.\", \"Age\"].median()\n",
        "# data.loc[(data['Treatment'] == \"Miss.\") , \"Age\"] = data.loc[data['Treatment'] == \"Miss.\", \"Age\"].median()\n",
        "# data.loc[(data['Treatment'] == \"Mr.\") , \"Age\"] = data.loc[data['Treatment'] == \"Mr.\", \"Age\"].median()\n",
        "# data.loc[(data['Treatment'] == \"Mrs.\") , \"Age\"] = data.loc[data['Treatment'] == \"Mrs.\", \"Age\"].median()\n",
        "# data.loc[(data['Treatment'] == \"girl.\") , \"Age\"] = data.loc[data['Treatment'] == \"girl.\", \"Age\"].median()"
      ],
      "execution_count": 73,
      "outputs": []
    },
    {
      "cell_type": "code",
      "metadata": {
        "id": "tljpyjSdKJM3"
      },
      "source": [
        "data.loc[data['Embarked'].isnull() , \"Embarked\"] = \"S\"\n"
      ],
      "execution_count": 74,
      "outputs": []
    },
    {
      "cell_type": "code",
      "metadata": {
        "id": "X1_HH110My0t",
        "outputId": "b8f817cb-3a3c-4dcf-9a41-6d57b09fe3b9",
        "colab": {
          "base_uri": "https://localhost:8080/",
          "height": 47
        }
      },
      "source": [
        "fare=data.loc[(data['Fare'].isnull()) ] \n",
        "data.loc[data['Fare'].isnull() , \"Fare\"] = 13.3\n",
        "# fare\n",
        "data.loc[(data['Fare'].isnull()) ] "
      ],
      "execution_count": 75,
      "outputs": [
        {
          "output_type": "execute_result",
          "data": {
            "text/html": [
              "<div>\n",
              "<style scoped>\n",
              "    .dataframe tbody tr th:only-of-type {\n",
              "        vertical-align: middle;\n",
              "    }\n",
              "\n",
              "    .dataframe tbody tr th {\n",
              "        vertical-align: top;\n",
              "    }\n",
              "\n",
              "    .dataframe thead th {\n",
              "        text-align: right;\n",
              "    }\n",
              "</style>\n",
              "<table border=\"1\" class=\"dataframe\">\n",
              "  <thead>\n",
              "    <tr style=\"text-align: right;\">\n",
              "      <th></th>\n",
              "      <th>PassengerId</th>\n",
              "      <th>Pclass</th>\n",
              "      <th>Name</th>\n",
              "      <th>Sex</th>\n",
              "      <th>Age</th>\n",
              "      <th>SibSp</th>\n",
              "      <th>Parch</th>\n",
              "      <th>Ticket</th>\n",
              "      <th>Fare</th>\n",
              "      <th>Cabin</th>\n",
              "      <th>Embarked</th>\n",
              "      <th>Treatment</th>\n",
              "    </tr>\n",
              "  </thead>\n",
              "  <tbody>\n",
              "  </tbody>\n",
              "</table>\n",
              "</div>"
            ],
            "text/plain": [
              "Empty DataFrame\n",
              "Columns: [PassengerId, Pclass, Name, Sex, Age, SibSp, Parch, Ticket, Fare, Cabin, Embarked, Treatment]\n",
              "Index: []"
            ]
          },
          "metadata": {
            "tags": []
          },
          "execution_count": 75
        }
      ]
    },
    {
      "cell_type": "code",
      "metadata": {
        "id": "fss_x8yeM5Sc"
      },
      "source": [
        "# data.loc[(data['Pclass'] == 3) , \"Fare\"] = data.loc[data['Pclass'] == 3, \"Fare\"].median()\n",
        "# data.loc[(data['Pclass'] == 2) , \"Fare\"] = data.loc[data['Pclass'] == 2, \"Fare\"].median()\n",
        "# data.loc[(data['Pclass'] == 1) , \"Fare\"] = data.loc[data['Pclass'] == 1, \"Fare\"].median()"
      ],
      "execution_count": 76,
      "outputs": []
    },
    {
      "cell_type": "code",
      "metadata": {
        "id": "lC5ByeIpOFXJ",
        "outputId": "bda7f72a-801f-4b8f-dca1-86ab38ee89dc",
        "colab": {
          "base_uri": "https://localhost:8080/",
          "height": 406
        }
      },
      "source": [
        "data['Family'] = data['SibSp'] +  data['Parch'] \n",
        "# data.drop(['SibSp', 'Parch'], axis='columns', inplace=True)\n",
        "\n",
        "data"
      ],
      "execution_count": 77,
      "outputs": [
        {
          "output_type": "execute_result",
          "data": {
            "text/html": [
              "<div>\n",
              "<style scoped>\n",
              "    .dataframe tbody tr th:only-of-type {\n",
              "        vertical-align: middle;\n",
              "    }\n",
              "\n",
              "    .dataframe tbody tr th {\n",
              "        vertical-align: top;\n",
              "    }\n",
              "\n",
              "    .dataframe thead th {\n",
              "        text-align: right;\n",
              "    }\n",
              "</style>\n",
              "<table border=\"1\" class=\"dataframe\">\n",
              "  <thead>\n",
              "    <tr style=\"text-align: right;\">\n",
              "      <th></th>\n",
              "      <th>PassengerId</th>\n",
              "      <th>Pclass</th>\n",
              "      <th>Name</th>\n",
              "      <th>Sex</th>\n",
              "      <th>Age</th>\n",
              "      <th>SibSp</th>\n",
              "      <th>Parch</th>\n",
              "      <th>Ticket</th>\n",
              "      <th>Fare</th>\n",
              "      <th>Cabin</th>\n",
              "      <th>Embarked</th>\n",
              "      <th>Treatment</th>\n",
              "      <th>Family</th>\n",
              "    </tr>\n",
              "  </thead>\n",
              "  <tbody>\n",
              "    <tr>\n",
              "      <th>0</th>\n",
              "      <td>1</td>\n",
              "      <td>3</td>\n",
              "      <td>Braund, Mr. Owen Harris</td>\n",
              "      <td>male</td>\n",
              "      <td>22.0</td>\n",
              "      <td>1</td>\n",
              "      <td>0</td>\n",
              "      <td>A/5 21171</td>\n",
              "      <td>7.2500</td>\n",
              "      <td>NaN</td>\n",
              "      <td>S</td>\n",
              "      <td>Mr.</td>\n",
              "      <td>1</td>\n",
              "    </tr>\n",
              "    <tr>\n",
              "      <th>1</th>\n",
              "      <td>2</td>\n",
              "      <td>1</td>\n",
              "      <td>Cumings, Mrs. John Bradley (Florence Briggs Th...</td>\n",
              "      <td>female</td>\n",
              "      <td>38.0</td>\n",
              "      <td>1</td>\n",
              "      <td>0</td>\n",
              "      <td>PC 17599</td>\n",
              "      <td>71.2833</td>\n",
              "      <td>C85</td>\n",
              "      <td>C</td>\n",
              "      <td>Mrs.</td>\n",
              "      <td>1</td>\n",
              "    </tr>\n",
              "    <tr>\n",
              "      <th>2</th>\n",
              "      <td>3</td>\n",
              "      <td>3</td>\n",
              "      <td>Heikkinen, Miss. Laina</td>\n",
              "      <td>female</td>\n",
              "      <td>26.0</td>\n",
              "      <td>0</td>\n",
              "      <td>0</td>\n",
              "      <td>STON/O2. 3101282</td>\n",
              "      <td>7.9250</td>\n",
              "      <td>NaN</td>\n",
              "      <td>S</td>\n",
              "      <td>Miss.</td>\n",
              "      <td>0</td>\n",
              "    </tr>\n",
              "    <tr>\n",
              "      <th>3</th>\n",
              "      <td>4</td>\n",
              "      <td>1</td>\n",
              "      <td>Futrelle, Mrs. Jacques Heath (Lily May Peel)</td>\n",
              "      <td>female</td>\n",
              "      <td>35.0</td>\n",
              "      <td>1</td>\n",
              "      <td>0</td>\n",
              "      <td>113803</td>\n",
              "      <td>53.1000</td>\n",
              "      <td>C123</td>\n",
              "      <td>S</td>\n",
              "      <td>Mrs.</td>\n",
              "      <td>1</td>\n",
              "    </tr>\n",
              "    <tr>\n",
              "      <th>4</th>\n",
              "      <td>5</td>\n",
              "      <td>3</td>\n",
              "      <td>Allen, Mr. William Henry</td>\n",
              "      <td>male</td>\n",
              "      <td>35.0</td>\n",
              "      <td>0</td>\n",
              "      <td>0</td>\n",
              "      <td>373450</td>\n",
              "      <td>8.0500</td>\n",
              "      <td>NaN</td>\n",
              "      <td>S</td>\n",
              "      <td>Mr.</td>\n",
              "      <td>0</td>\n",
              "    </tr>\n",
              "    <tr>\n",
              "      <th>...</th>\n",
              "      <td>...</td>\n",
              "      <td>...</td>\n",
              "      <td>...</td>\n",
              "      <td>...</td>\n",
              "      <td>...</td>\n",
              "      <td>...</td>\n",
              "      <td>...</td>\n",
              "      <td>...</td>\n",
              "      <td>...</td>\n",
              "      <td>...</td>\n",
              "      <td>...</td>\n",
              "      <td>...</td>\n",
              "      <td>...</td>\n",
              "    </tr>\n",
              "    <tr>\n",
              "      <th>413</th>\n",
              "      <td>1305</td>\n",
              "      <td>3</td>\n",
              "      <td>Spector, Mr. Woolf</td>\n",
              "      <td>male</td>\n",
              "      <td>30.0</td>\n",
              "      <td>0</td>\n",
              "      <td>0</td>\n",
              "      <td>A.5. 3236</td>\n",
              "      <td>8.0500</td>\n",
              "      <td>NaN</td>\n",
              "      <td>S</td>\n",
              "      <td>Mr.</td>\n",
              "      <td>0</td>\n",
              "    </tr>\n",
              "    <tr>\n",
              "      <th>414</th>\n",
              "      <td>1306</td>\n",
              "      <td>1</td>\n",
              "      <td>Oliva y Ocana, Dona. Fermina</td>\n",
              "      <td>female</td>\n",
              "      <td>39.0</td>\n",
              "      <td>0</td>\n",
              "      <td>0</td>\n",
              "      <td>PC 17758</td>\n",
              "      <td>108.9000</td>\n",
              "      <td>C105</td>\n",
              "      <td>C</td>\n",
              "      <td>Mrs.</td>\n",
              "      <td>0</td>\n",
              "    </tr>\n",
              "    <tr>\n",
              "      <th>415</th>\n",
              "      <td>1307</td>\n",
              "      <td>3</td>\n",
              "      <td>Saether, Mr. Simon Sivertsen</td>\n",
              "      <td>male</td>\n",
              "      <td>38.5</td>\n",
              "      <td>0</td>\n",
              "      <td>0</td>\n",
              "      <td>SOTON/O.Q. 3101262</td>\n",
              "      <td>7.2500</td>\n",
              "      <td>NaN</td>\n",
              "      <td>S</td>\n",
              "      <td>Mr.</td>\n",
              "      <td>0</td>\n",
              "    </tr>\n",
              "    <tr>\n",
              "      <th>416</th>\n",
              "      <td>1308</td>\n",
              "      <td>3</td>\n",
              "      <td>Ware, Mr. Frederick</td>\n",
              "      <td>male</td>\n",
              "      <td>30.0</td>\n",
              "      <td>0</td>\n",
              "      <td>0</td>\n",
              "      <td>359309</td>\n",
              "      <td>8.0500</td>\n",
              "      <td>NaN</td>\n",
              "      <td>S</td>\n",
              "      <td>Mr.</td>\n",
              "      <td>0</td>\n",
              "    </tr>\n",
              "    <tr>\n",
              "      <th>417</th>\n",
              "      <td>1309</td>\n",
              "      <td>3</td>\n",
              "      <td>Peter, Master. Michael J</td>\n",
              "      <td>male</td>\n",
              "      <td>6.0</td>\n",
              "      <td>1</td>\n",
              "      <td>1</td>\n",
              "      <td>2668</td>\n",
              "      <td>22.3583</td>\n",
              "      <td>NaN</td>\n",
              "      <td>C</td>\n",
              "      <td>Master.</td>\n",
              "      <td>2</td>\n",
              "    </tr>\n",
              "  </tbody>\n",
              "</table>\n",
              "<p>1309 rows × 13 columns</p>\n",
              "</div>"
            ],
            "text/plain": [
              "     PassengerId  Pclass  ... Treatment Family\n",
              "0              1       3  ...       Mr.      1\n",
              "1              2       1  ...      Mrs.      1\n",
              "2              3       3  ...     Miss.      0\n",
              "3              4       1  ...      Mrs.      1\n",
              "4              5       3  ...       Mr.      0\n",
              "..           ...     ...  ...       ...    ...\n",
              "413         1305       3  ...       Mr.      0\n",
              "414         1306       1  ...      Mrs.      0\n",
              "415         1307       3  ...       Mr.      0\n",
              "416         1308       3  ...       Mr.      0\n",
              "417         1309       3  ...   Master.      2\n",
              "\n",
              "[1309 rows x 13 columns]"
            ]
          },
          "metadata": {
            "tags": []
          },
          "execution_count": 77
        }
      ]
    },
    {
      "cell_type": "code",
      "metadata": {
        "id": "-lwryMUBKQD7",
        "outputId": "34bed770-7d78-45e7-938e-53dedd2d095d",
        "colab": {
          "base_uri": "https://localhost:8080/",
          "height": 265
        }
      },
      "source": [
        "data.isnull().mean()"
      ],
      "execution_count": 78,
      "outputs": [
        {
          "output_type": "execute_result",
          "data": {
            "text/plain": [
              "PassengerId    0.000000\n",
              "Pclass         0.000000\n",
              "Name           0.000000\n",
              "Sex            0.000000\n",
              "Age            0.000000\n",
              "SibSp          0.000000\n",
              "Parch          0.000000\n",
              "Ticket         0.000000\n",
              "Fare           0.000000\n",
              "Cabin          0.774637\n",
              "Embarked       0.000000\n",
              "Treatment      0.000000\n",
              "Family         0.000000\n",
              "dtype: float64"
            ]
          },
          "metadata": {
            "tags": []
          },
          "execution_count": 78
        }
      ]
    },
    {
      "cell_type": "markdown",
      "metadata": {
        "id": "T6K_iqnsEoBL"
      },
      "source": [
        "#DESCRIÇÃO DOS DADOS\n",
        "\n",
        "Nessa etapa vamos descrever os dados para conseguir entender e obter análises quantitativas do dataframe. Essa descrição é realizada diante da distribuição dos valores das variáveis e da correlação dos dados.\n"
      ]
    },
    {
      "cell_type": "markdown",
      "metadata": {
        "id": "slRerzX_GKfU"
      },
      "source": [
        "##Distribuição\n",
        "\n",
        "A seguir são realizadas diversas plotagens con o método catplot para conseguir visualizar o contexto dos passageiros em diverentes aspects."
      ]
    },
    {
      "cell_type": "code",
      "metadata": {
        "id": "X-AQbvwgLnyt",
        "outputId": "52003c2b-f016-4eb8-d00f-25eeb90808d3",
        "colab": {
          "base_uri": "https://localhost:8080/",
          "height": 392
        }
      },
      "source": [
        "fig, axes = plt.subplots(2, 2, figsize=(15, 3))\n",
        "fig.subplots_adjust( bottom=0.05, top=1.5)\n",
        "\n",
        "sns.countplot(x=data.Sex, ax=axes[0, 0])\n",
        "sns.countplot(x=data.Pclass,hue=data.Sex,ax=axes[0, 1])\n",
        "\n",
        "sns.countplot(x=data.Age,hue=data.Sex,ax=axes[1, 0])\n",
        "sns.countplot(x=data.Embarked,hue=data.Sex,ax=axes[1, 1])\n"
      ],
      "execution_count": 79,
      "outputs": [
        {
          "output_type": "execute_result",
          "data": {
            "text/plain": [
              "<matplotlib.axes._subplots.AxesSubplot at 0x7f6a6185de80>"
            ]
          },
          "metadata": {
            "tags": []
          },
          "execution_count": 79
        },
        {
          "output_type": "display_data",
          "data": {
            "image/png": "[encoded data removed]",
            "text/plain": [
              "<Figure size 1080x216 with 4 Axes>"
            ]
          },
          "metadata": {
            "tags": [],
            "needs_background": "light"
          }
        }
      ]
    },
    {
      "cell_type": "code",
      "metadata": {
        "id": "mTx4YeFKOQAe",
        "outputId": "f639a3a5-13df-4b48-9909-33c4f75902af",
        "colab": {
          "base_uri": "https://localhost:8080/",
          "height": 392
        }
      },
      "source": [
        "fig, axes = plt.subplots(2, figsize=(15, 3))\n",
        "fig.subplots_adjust( bottom=0.05, top=1.5)\n",
        "\n",
        "sns.countplot(x=data.Fare,hue=data.Pclass, ax=axes[0])\n",
        "sns.countplot(x=data.Family,hue=data.Pclass,ax=axes[1])"
      ],
      "execution_count": 80,
      "outputs": [
        {
          "output_type": "execute_result",
          "data": {
            "text/plain": [
              "<matplotlib.axes._subplots.AxesSubplot at 0x7f6a6145e3c8>"
            ]
          },
          "metadata": {
            "tags": []
          },
          "execution_count": 80
        },
        {
          "output_type": "display_data",
          "data": {
            "image/png": "[encoded data removed]",
            "text/plain": [
              "<Figure size 1080x216 with 2 Axes>"
            ]
          },
          "metadata": {
            "tags": [],
            "needs_background": "light"
          }
        }
      ]
    },
    {
      "cell_type": "code",
      "metadata": {
        "id": "5qKZ_dHBioWf"
      },
      "source": [
        "\n"
      ],
      "execution_count": 80,
      "outputs": []
    },
    {
      "cell_type": "code",
      "metadata": {
        "id": "RB2EBUiqLn1F"
      },
      "source": [
        ""
      ],
      "execution_count": 80,
      "outputs": []
    },
    {
      "cell_type": "code",
      "metadata": {
        "id": "C0C3PmwnrNe2"
      },
      "source": [
        "# data.loc[(data['Treatment'] == \"Miss.\") & (data['SibSp'] == 0)] \n"
      ],
      "execution_count": 81,
      "outputs": []
    },
    {
      "cell_type": "code",
      "metadata": {
        "id": "HuYWPeJqLoFC"
      },
      "source": [
        ""
      ],
      "execution_count": 81,
      "outputs": []
    },
    {
      "cell_type": "code",
      "metadata": {
        "id": "alpebOLiLoIO",
        "outputId": "0c1ef7c3-e41e-4f5f-dfc1-2d90132a4a8c",
        "colab": {
          "base_uri": "https://localhost:8080/",
          "height": 503
        }
      },
      "source": [
        "scatter_matrix (data[['Pclass', 'Sex', 'Age','SibSp',  'Fare']], figsize = ( 12 , 8 ));"
      ],
      "execution_count": 82,
      "outputs": [
        {
          "output_type": "display_data",
          "data": {
            "image/png": "[encoded data removed]",
            "text/plain": [
              "<Figure size 864x576 with 16 Axes>"
            ]
          },
          "metadata": {
            "tags": [],
            "needs_background": "light"
          }
        }
      ]
    },
    {
      "cell_type": "code",
      "metadata": {
        "id": "x7aFbnZCrD4L"
      },
      "source": [
        "\n"
      ],
      "execution_count": null,
      "outputs": []
    },
    {
      "cell_type": "code",
      "metadata": {
        "id": "lmsNQGTtrEIm"
      },
      "source": [
        "\n",
        "\n"
      ],
      "execution_count": null,
      "outputs": []
    },
    {
      "cell_type": "code",
      "metadata": {
        "id": "b8pw0SbwrEMW"
      },
      "source": [
        ""
      ],
      "execution_count": null,
      "outputs": []
    },
    {
      "cell_type": "code",
      "metadata": {
        "id": "5T5SsdPNrECu"
      },
      "source": [
        ""
      ],
      "execution_count": null,
      "outputs": []
    },
    {
      "cell_type": "code",
      "metadata": {
        "id": "ePkPnFMirD92"
      },
      "source": [
        ""
      ],
      "execution_count": null,
      "outputs": []
    },
    {
      "cell_type": "markdown",
      "metadata": {
        "id": "r_0L7COzPFnL"
      },
      "source": [
        "#MACHINE LEARNING"
      ]
    },
    {
      "cell_type": "markdown",
      "metadata": {
        "id": "3mV9jLZcPJo1"
      },
      "source": [
        "##Preparação dos dados"
      ]
    },
    {
      "cell_type": "code",
      "metadata": {
        "id": "9CtI2uzqLoVq",
        "outputId": "a70d5b6f-659c-414e-f7f1-ce7d1dac3756",
        "colab": {
          "base_uri": "https://localhost:8080/",
          "height": 419
        }
      },
      "source": [
        "data['Embarked_S'] = data['Embarked'].map({'S': 1, 'C': 0, 'Q': 0})\n",
        "data['Embarked_C'] = data['Embarked'].map({'S': 0, 'C': 1, 'Q': 0})\n",
        "data['Embarked_Q'] = data['Embarked'].map({'S': 0, 'C': 0, 'Q': 1})\n",
        "data['adultW'] = data['Treatment'].map({'girl.': 0, 'Master.': 0, 'Mrs.': 1, 'Miss.': 1, 'Mr.': 0})\n",
        "data['adultM'] = data['Treatment'].map({'girl.': 0, 'Master.': 0, 'Mrs.': 0, 'Miss.': 0, 'Mr.': 1})\n",
        "data['kid'] = data['Treatment'].map({'girl.': 1, 'Master.': 1, 'Mrs.': 0, 'Miss.': 0, 'Mr.': 0})\n",
        "data.drop(['Embarked', 'Treatment', 'Lastname', 'Ticket', 'Cabin', 'Name'], axis='columns', inplace=True)\n",
        "data['Sex'] = data['Sex'].map({'male': 0, 'female': 1})\n",
        "\n",
        "data"
      ],
      "execution_count": null,
      "outputs": [
        {
          "output_type": "execute_result",
          "data": {
            "text/html": [
              "<div>\n",
              "<style scoped>\n",
              "    .dataframe tbody tr th:only-of-type {\n",
              "        vertical-align: middle;\n",
              "    }\n",
              "\n",
              "    .dataframe tbody tr th {\n",
              "        vertical-align: top;\n",
              "    }\n",
              "\n",
              "    .dataframe thead th {\n",
              "        text-align: right;\n",
              "    }\n",
              "</style>\n",
              "<table border=\"1\" class=\"dataframe\">\n",
              "  <thead>\n",
              "    <tr style=\"text-align: right;\">\n",
              "      <th></th>\n",
              "      <th>PassengerId</th>\n",
              "      <th>Pclass</th>\n",
              "      <th>Sex</th>\n",
              "      <th>Age</th>\n",
              "      <th>SibSp</th>\n",
              "      <th>Parch</th>\n",
              "      <th>Fare</th>\n",
              "      <th>Embarked_S</th>\n",
              "      <th>Embarked_C</th>\n",
              "      <th>Embarked_Q</th>\n",
              "      <th>adultW</th>\n",
              "      <th>adultM</th>\n",
              "      <th>kid</th>\n",
              "    </tr>\n",
              "  </thead>\n",
              "  <tbody>\n",
              "    <tr>\n",
              "      <th>0</th>\n",
              "      <td>1</td>\n",
              "      <td>3</td>\n",
              "      <td>0</td>\n",
              "      <td>30.0</td>\n",
              "      <td>1</td>\n",
              "      <td>0</td>\n",
              "      <td>8.05</td>\n",
              "      <td>1</td>\n",
              "      <td>0</td>\n",
              "      <td>0</td>\n",
              "      <td>0</td>\n",
              "      <td>1</td>\n",
              "      <td>0</td>\n",
              "    </tr>\n",
              "    <tr>\n",
              "      <th>1</th>\n",
              "      <td>2</td>\n",
              "      <td>1</td>\n",
              "      <td>1</td>\n",
              "      <td>36.0</td>\n",
              "      <td>1</td>\n",
              "      <td>0</td>\n",
              "      <td>60.00</td>\n",
              "      <td>0</td>\n",
              "      <td>1</td>\n",
              "      <td>0</td>\n",
              "      <td>1</td>\n",
              "      <td>0</td>\n",
              "      <td>0</td>\n",
              "    </tr>\n",
              "    <tr>\n",
              "      <th>2</th>\n",
              "      <td>3</td>\n",
              "      <td>3</td>\n",
              "      <td>1</td>\n",
              "      <td>24.0</td>\n",
              "      <td>0</td>\n",
              "      <td>0</td>\n",
              "      <td>8.05</td>\n",
              "      <td>1</td>\n",
              "      <td>0</td>\n",
              "      <td>0</td>\n",
              "      <td>1</td>\n",
              "      <td>0</td>\n",
              "      <td>0</td>\n",
              "    </tr>\n",
              "    <tr>\n",
              "      <th>3</th>\n",
              "      <td>4</td>\n",
              "      <td>1</td>\n",
              "      <td>1</td>\n",
              "      <td>36.0</td>\n",
              "      <td>1</td>\n",
              "      <td>0</td>\n",
              "      <td>60.00</td>\n",
              "      <td>1</td>\n",
              "      <td>0</td>\n",
              "      <td>0</td>\n",
              "      <td>1</td>\n",
              "      <td>0</td>\n",
              "      <td>0</td>\n",
              "    </tr>\n",
              "    <tr>\n",
              "      <th>4</th>\n",
              "      <td>5</td>\n",
              "      <td>3</td>\n",
              "      <td>0</td>\n",
              "      <td>30.0</td>\n",
              "      <td>0</td>\n",
              "      <td>0</td>\n",
              "      <td>8.05</td>\n",
              "      <td>1</td>\n",
              "      <td>0</td>\n",
              "      <td>0</td>\n",
              "      <td>0</td>\n",
              "      <td>1</td>\n",
              "      <td>0</td>\n",
              "    </tr>\n",
              "    <tr>\n",
              "      <th>...</th>\n",
              "      <td>...</td>\n",
              "      <td>...</td>\n",
              "      <td>...</td>\n",
              "      <td>...</td>\n",
              "      <td>...</td>\n",
              "      <td>...</td>\n",
              "      <td>...</td>\n",
              "      <td>...</td>\n",
              "      <td>...</td>\n",
              "      <td>...</td>\n",
              "      <td>...</td>\n",
              "      <td>...</td>\n",
              "      <td>...</td>\n",
              "    </tr>\n",
              "    <tr>\n",
              "      <th>413</th>\n",
              "      <td>1305</td>\n",
              "      <td>3</td>\n",
              "      <td>0</td>\n",
              "      <td>30.0</td>\n",
              "      <td>0</td>\n",
              "      <td>0</td>\n",
              "      <td>8.05</td>\n",
              "      <td>1</td>\n",
              "      <td>0</td>\n",
              "      <td>0</td>\n",
              "      <td>0</td>\n",
              "      <td>1</td>\n",
              "      <td>0</td>\n",
              "    </tr>\n",
              "    <tr>\n",
              "      <th>414</th>\n",
              "      <td>1306</td>\n",
              "      <td>1</td>\n",
              "      <td>1</td>\n",
              "      <td>36.0</td>\n",
              "      <td>0</td>\n",
              "      <td>0</td>\n",
              "      <td>60.00</td>\n",
              "      <td>0</td>\n",
              "      <td>1</td>\n",
              "      <td>0</td>\n",
              "      <td>1</td>\n",
              "      <td>0</td>\n",
              "      <td>0</td>\n",
              "    </tr>\n",
              "    <tr>\n",
              "      <th>415</th>\n",
              "      <td>1307</td>\n",
              "      <td>3</td>\n",
              "      <td>0</td>\n",
              "      <td>30.0</td>\n",
              "      <td>0</td>\n",
              "      <td>0</td>\n",
              "      <td>8.05</td>\n",
              "      <td>1</td>\n",
              "      <td>0</td>\n",
              "      <td>0</td>\n",
              "      <td>0</td>\n",
              "      <td>1</td>\n",
              "      <td>0</td>\n",
              "    </tr>\n",
              "    <tr>\n",
              "      <th>416</th>\n",
              "      <td>1308</td>\n",
              "      <td>3</td>\n",
              "      <td>0</td>\n",
              "      <td>30.0</td>\n",
              "      <td>0</td>\n",
              "      <td>0</td>\n",
              "      <td>8.05</td>\n",
              "      <td>1</td>\n",
              "      <td>0</td>\n",
              "      <td>0</td>\n",
              "      <td>0</td>\n",
              "      <td>1</td>\n",
              "      <td>0</td>\n",
              "    </tr>\n",
              "    <tr>\n",
              "      <th>417</th>\n",
              "      <td>1309</td>\n",
              "      <td>3</td>\n",
              "      <td>0</td>\n",
              "      <td>6.0</td>\n",
              "      <td>1</td>\n",
              "      <td>1</td>\n",
              "      <td>8.05</td>\n",
              "      <td>0</td>\n",
              "      <td>1</td>\n",
              "      <td>0</td>\n",
              "      <td>0</td>\n",
              "      <td>0</td>\n",
              "      <td>1</td>\n",
              "    </tr>\n",
              "  </tbody>\n",
              "</table>\n",
              "<p>1309 rows × 13 columns</p>\n",
              "</div>"
            ],
            "text/plain": [
              "     PassengerId  Pclass  Sex   Age  ...  Embarked_Q  adultW  adultM  kid\n",
              "0              1       3    0  30.0  ...           0       0       1    0\n",
              "1              2       1    1  36.0  ...           0       1       0    0\n",
              "2              3       3    1  24.0  ...           0       1       0    0\n",
              "3              4       1    1  36.0  ...           0       1       0    0\n",
              "4              5       3    0  30.0  ...           0       0       1    0\n",
              "..           ...     ...  ...   ...  ...         ...     ...     ...  ...\n",
              "413         1305       3    0  30.0  ...           0       0       1    0\n",
              "414         1306       1    1  36.0  ...           0       1       0    0\n",
              "415         1307       3    0  30.0  ...           0       0       1    0\n",
              "416         1308       3    0  30.0  ...           0       0       1    0\n",
              "417         1309       3    0   6.0  ...           0       0       0    1\n",
              "\n",
              "[1309 rows x 13 columns]"
            ]
          },
          "metadata": {
            "tags": []
          },
          "execution_count": 145
        }
      ]
    },
    {
      "cell_type": "code",
      "metadata": {
        "id": "SNJMIaKNLoi2",
        "outputId": "aff8edaf-23f8-4244-b840-40cafe95ad60",
        "colab": {
          "base_uri": "https://localhost:8080/",
          "height": 34
        }
      },
      "source": [
        "data.drop(['PassengerId'], axis='columns', inplace=True)\n",
        "\n",
        "train = data.iloc[:train_lines]\n",
        "test = data.iloc[train_lines:]\n",
        "train.shape"
      ],
      "execution_count": null,
      "outputs": [
        {
          "output_type": "execute_result",
          "data": {
            "text/plain": [
              "(891, 11)"
            ]
          },
          "metadata": {
            "tags": []
          },
          "execution_count": 147
        }
      ]
    },
    {
      "cell_type": "markdown",
      "metadata": {
        "id": "u_ceN2o8D5CV"
      },
      "source": [
        "com base nos modelos de predição aplicados em https://github.com/rafaelnduarte/Titanic_Kaggle/blob/master/Titanic_Logistic_Regression_Decision_Tree.ipynb\n",
        "\n",
        "\n",
        "\n"
      ]
    },
    {
      "cell_type": "code",
      "metadata": {
        "id": "wfxC-E7LA4MP"
      },
      "source": [
        "from sklearn.linear_model import LogisticRegression\n",
        "from sklearn.tree import DecisionTreeClassifier\n",
        "from sklearn.ensemble import RandomForestClassifier\n",
        "forest_clf = RandomForestClassifier(random_state = 42)"
      ],
      "execution_count": null,
      "outputs": []
    },
    {
      "cell_type": "code",
      "metadata": {
        "id": "a7395gIz3Ow_",
        "outputId": "17f7bce0-b086-46c4-cde9-a376940e11f2",
        "colab": {
          "base_uri": "https://localhost:8080/",
          "height": 119
        }
      },
      "source": [
        "from sklearn.linear_model import SGDClassifier\n",
        "sgd_clf = SGDClassifier(random_state=42)\n",
        "sgd_clf.fit(train, survived)"
      ],
      "execution_count": null,
      "outputs": [
        {
          "output_type": "execute_result",
          "data": {
            "text/plain": [
              "SGDClassifier(alpha=0.0001, average=False, class_weight=None,\n",
              "              early_stopping=False, epsilon=0.1, eta0=0.0, fit_intercept=True,\n",
              "              l1_ratio=0.15, learning_rate='optimal', loss='hinge',\n",
              "              max_iter=1000, n_iter_no_change=5, n_jobs=None, penalty='l2',\n",
              "              power_t=0.5, random_state=42, shuffle=True, tol=0.001,\n",
              "              validation_fraction=0.1, verbose=0, warm_start=False)"
            ]
          },
          "metadata": {
            "tags": []
          },
          "execution_count": 149
        }
      ]
    },
    {
      "cell_type": "code",
      "metadata": {
        "id": "JgbBPcuE3OuN",
        "outputId": "4ea55900-8c14-4493-e21d-95e220ff03c4",
        "colab": {
          "base_uri": "https://localhost:8080/",
          "height": 34
        }
      },
      "source": [
        "from sklearn.model_selection import cross_val_score\n",
        "cross_val_score(sgd_clf, train, survived, cv=3, scoring='accuracy')"
      ],
      "execution_count": null,
      "outputs": [
        {
          "output_type": "execute_result",
          "data": {
            "text/plain": [
              "array([0.62962963, 0.76094276, 0.67003367])"
            ]
          },
          "metadata": {
            "tags": []
          },
          "execution_count": 150
        }
      ]
    },
    {
      "cell_type": "code",
      "metadata": {
        "id": "LSsKMrROr3dB"
      },
      "source": [
        "forest_clf.fit(train, survived)\n",
        "\n",
        "y_pred_forest = forest_clf.predict(test)"
      ],
      "execution_count": null,
      "outputs": []
    },
    {
      "cell_type": "code",
      "metadata": {
        "id": "RbrwsJdcsDqJ"
      },
      "source": [
        "passengerId = test['PassengerId']\n",
        "\n",
        "submission = pd.DataFrame({\n",
        "    \"PassengerId\": passengerId,\n",
        "    \"Survived\": y_pred_forest\n",
        "})\n",
        "\n",
        "# Generating csv file\n",
        "from google.colab import files\n",
        "\n",
        "submission.to_csv('submission_forest.csv', index=False)\n",
        "files.download('submission_forest.csv')"
      ],
      "execution_count": null,
      "outputs": []
    },
    {
      "cell_type": "code",
      "metadata": {
        "id": "eQcDz9IcBKcc",
        "outputId": "4c730440-1764-4e90-e177-c1ff88d75e69",
        "colab": {
          "base_uri": "https://localhost:8080/",
          "height": 34
        }
      },
      "source": [
        "lr_model = LogisticRegression(solver='liblinear')\n",
        "lr_model.fit(train, survived)\n",
        "\n",
        "# Checking the accuracy of the model\n",
        "acc_logReg = round(lr_model.score(train, survived) * 100, 2)\n",
        "print(\"Logistic Regression Model Accuracy: {}\".format(acc_logReg))"
      ],
      "execution_count": null,
      "outputs": [
        {
          "output_type": "stream",
          "text": [
            "Logistic Regression Model Accuracy: 82.49\n"
          ],
          "name": "stdout"
        }
      ]
    },
    {
      "cell_type": "code",
      "metadata": {
        "id": "hTD_MrAjBwju"
      },
      "source": [
        "passengerId = test['PassengerId']\n"
      ],
      "execution_count": null,
      "outputs": []
    },
    {
      "cell_type": "code",
      "metadata": {
        "id": "8wZxdX9fBKgy",
        "outputId": "f39d0c56-afda-468e-e2b3-da97aedca6f1",
        "colab": {
          "base_uri": "https://localhost:8080/",
          "height": 17
        }
      },
      "source": [
        "y_pred_lr = lr_model.predict(test)\n",
        "\n",
        "submission = pd.DataFrame({\n",
        "    \"PassengerId\": passengerId,\n",
        "    \"Survived\": y_pred_lr\n",
        "})\n",
        "\n",
        "# Generating csv file\n",
        "from google.colab import files\n",
        "\n",
        "submission.to_csv('submission_lr.csv', index=False)\n",
        "files.download('submission_lr.csv')"
      ],
      "execution_count": null,
      "outputs": [
        {
          "output_type": "display_data",
          "data": {
            "application/javascript": [
              "\n",
              "    async function download(id, filename, size) {\n",
              "      if (!google.colab.kernel.accessAllowed) {\n",
              "        return;\n",
              "      }\n",
              "      const div = document.createElement('div');\n",
              "      const label = document.createElement('label');\n",
              "      label.textContent = `Downloading \"${filename}\": `;\n",
              "      div.appendChild(label);\n",
              "      const progress = document.createElement('progress');\n",
              "      progress.max = size;\n",
              "      div.appendChild(progress);\n",
              "      document.body.appendChild(div);\n",
              "\n",
              "      const buffers = [];\n",
              "      let downloaded = 0;\n",
              "\n",
              "      const channel = await google.colab.kernel.comms.open(id);\n",
              "      // Send a message to notify the kernel that we're ready.\n",
              "      channel.send({})\n",
              "\n",
              "      for await (const message of channel.messages) {\n",
              "        // Send a message to notify the kernel that we're ready.\n",
              "        channel.send({})\n",
              "        if (message.buffers) {\n",
              "          for (const buffer of message.buffers) {\n",
              "            buffers.push(buffer);\n",
              "            downloaded += buffer.byteLength;\n",
              "            progress.value = downloaded;\n",
              "          }\n",
              "        }\n",
              "      }\n",
              "      const blob = new Blob(buffers, {type: 'application/binary'});\n",
              "      const a = document.createElement('a');\n",
              "      a.href = window.URL.createObjectURL(blob);\n",
              "      a.download = filename;\n",
              "      div.appendChild(a);\n",
              "      a.click();\n",
              "      div.remove();\n",
              "    }\n",
              "  "
            ],
            "text/plain": [
              "<IPython.core.display.Javascript object>"
            ]
          },
          "metadata": {
            "tags": []
          }
        },
        {
          "output_type": "display_data",
          "data": {
            "application/javascript": [
              "download(\"download_7b3b2988-038e-4eac-96e4-6e247ff4fa43\", \"submission_lr.csv\", 2839)"
            ],
            "text/plain": [
              "<IPython.core.display.Javascript object>"
            ]
          },
          "metadata": {
            "tags": []
          }
        }
      ]
    },
    {
      "cell_type": "code",
      "metadata": {
        "id": "peEy1U7jBKjh",
        "outputId": "a0afe09d-8344-4bb2-cb0a-0ad4726661b9",
        "colab": {
          "base_uri": "https://localhost:8080/",
          "height": 34
        }
      },
      "source": [
        "\n",
        "# Creating a Decision Tree model\n",
        "tree_model = DecisionTreeClassifier(max_depth=3)\n",
        "tree_model.fit(train, survived)\n",
        "\n",
        "# Checking the accuracy of the model\n",
        "acc_tree = round(tree_model.score(train, survived) * 100, 2)\n",
        "print(\"Decision Tree Model Accuracy: {}\".format(acc_tree))"
      ],
      "execution_count": null,
      "outputs": [
        {
          "output_type": "stream",
          "text": [
            "Decision Tree Model Accuracy: 83.28\n"
          ],
          "name": "stdout"
        }
      ]
    },
    {
      "cell_type": "code",
      "metadata": {
        "id": "ws01tyGWBKmq",
        "outputId": "69afddde-9ede-4f80-a30d-a3838d55553b",
        "colab": {
          "base_uri": "https://localhost:8080/",
          "height": 17
        }
      },
      "source": [
        "y_pred_tree = tree_model.predict(test)\n",
        "\n",
        "submission = pd.DataFrame({\n",
        "    \"PassengerId\": passengerId,\n",
        "    \"Survived\": y_pred_tree\n",
        "})\n",
        "\n",
        "# generating csv file\n",
        "submission.to_csv('submission_tree.csv', index=False)\n",
        "files.download('submission_tree.csv')"
      ],
      "execution_count": null,
      "outputs": [
        {
          "output_type": "display_data",
          "data": {
            "application/javascript": [
              "\n",
              "    async function download(id, filename, size) {\n",
              "      if (!google.colab.kernel.accessAllowed) {\n",
              "        return;\n",
              "      }\n",
              "      const div = document.createElement('div');\n",
              "      const label = document.createElement('label');\n",
              "      label.textContent = `Downloading \"${filename}\": `;\n",
              "      div.appendChild(label);\n",
              "      const progress = document.createElement('progress');\n",
              "      progress.max = size;\n",
              "      div.appendChild(progress);\n",
              "      document.body.appendChild(div);\n",
              "\n",
              "      const buffers = [];\n",
              "      let downloaded = 0;\n",
              "\n",
              "      const channel = await google.colab.kernel.comms.open(id);\n",
              "      // Send a message to notify the kernel that we're ready.\n",
              "      channel.send({})\n",
              "\n",
              "      for await (const message of channel.messages) {\n",
              "        // Send a message to notify the kernel that we're ready.\n",
              "        channel.send({})\n",
              "        if (message.buffers) {\n",
              "          for (const buffer of message.buffers) {\n",
              "            buffers.push(buffer);\n",
              "            downloaded += buffer.byteLength;\n",
              "            progress.value = downloaded;\n",
              "          }\n",
              "        }\n",
              "      }\n",
              "      const blob = new Blob(buffers, {type: 'application/binary'});\n",
              "      const a = document.createElement('a');\n",
              "      a.href = window.URL.createObjectURL(blob);\n",
              "      a.download = filename;\n",
              "      div.appendChild(a);\n",
              "      a.click();\n",
              "      div.remove();\n",
              "    }\n",
              "  "
            ],
            "text/plain": [
              "<IPython.core.display.Javascript object>"
            ]
          },
          "metadata": {
            "tags": []
          }
        },
        {
          "output_type": "display_data",
          "data": {
            "application/javascript": [
              "download(\"download_a54dd53c-badd-4b9d-a80d-965f5c098c30\", \"submission_tree.csv\", 2839)"
            ],
            "text/plain": [
              "<IPython.core.display.Javascript object>"
            ]
          },
          "metadata": {
            "tags": []
          }
        }
      ]
    },
    {
      "cell_type": "code",
      "metadata": {
        "id": "F_9sOo--A4Vd",
        "outputId": "784a302a-d087-48ac-c844-b295cba01561",
        "colab": {
          "base_uri": "https://localhost:8080/",
          "height": 34
        }
      },
      "source": [
        "gender = pd.read_csv('gender_submission.csv')\n",
        "from sklearn.metrics import mean_absolute_error\n",
        "erro = mean_absolute_error(y_pred_tree,gender.Survived)\n",
        "erro "
      ],
      "execution_count": null,
      "outputs": [
        {
          "output_type": "execute_result",
          "data": {
            "text/plain": [
              "0.2607655502392344"
            ]
          },
          "metadata": {
            "tags": []
          },
          "execution_count": 273
        }
      ]
    },
    {
      "cell_type": "code",
      "metadata": {
        "id": "FXc1Na10A4TL"
      },
      "source": [
        ""
      ],
      "execution_count": null,
      "outputs": []
    }
  ]
}