{
  "nbformat": 4,
  "nbformat_minor": 0,
  "metadata": {
    "colab": {
      "name": "RedesNeuraisConvolucionais-MNIST.ipynb",
      "provenance": [],
      "collapsed_sections": [],
      "authorship_tag": "ABX9TyN9/tMtgiwzVTW3gQjoKCCx",
      "include_colab_link": true
    },
    "kernelspec": {
      "name": "python3",
      "display_name": "Python 3"
    },
    "accelerator": "GPU"
  },
  "cells": [
    {
      "cell_type": "markdown",
      "metadata": {
        "id": "view-in-github",
        "colab_type": "text"
      },
      "source": [
        "<a href=\"https://colab.research.google.com/github/guimaraaes/data-science/blob/master/RedesNeuraisConvolucionais-MNIST.ipynb\" target=\"_parent\"><img src=\"https://colab.research.google.com/assets/colab-badge.svg\" alt=\"Open In Colab\"/></a>"
      ]
    },
    {
      "cell_type": "code",
      "metadata": {
        "id": "Qsr34E8M1ngC"
      },
      "source": [
        "import numpy as np # linear algebra\n",
        "import pandas as pd # data processing, CSV file I/O (e.g. pd.read_csv)\n",
        "import seaborn as sns\n",
        "import matplotlib.pyplot as plt\n",
        "from collections import Counter\n",
        "%matplotlib inline\n",
        "from pandas.plotting import scatter_matrix\n",
        "import warnings\n",
        "warnings.filterwarnings('ignore') "
      ],
      "execution_count": null,
      "outputs": []
    },
    {
      "cell_type": "code",
      "metadata": {
        "id": "ik3bq66T1obJ"
      },
      "source": [
        "import tensorflow as tf\n",
        "from tensorflow import keras\n",
        "\n",
        "# from tensorflow.keras.datasets import mnist\n",
        "# mnist\n",
        "\n",
        "(X_train_orig, y_train_orig), (X_test_orig, y_test_orig) = keras.datasets.mnist.load_data()\n",
        "\n",
        "# y_train = y_train.reshape(y_train.shape[0], 1)"
      ],
      "execution_count": null,
      "outputs": []
    },
    {
      "cell_type": "code",
      "metadata": {
        "id": "bmoBEQegeHuN",
        "outputId": "b5ee9c78-d1e5-4f94-9e5b-21ca9093dfde",
        "colab": {
          "base_uri": "https://localhost:8080/",
          "height": 51
        }
      },
      "source": [
        "print(X_train_orig.shape)  \n",
        "print(X_test_orig.shape) "
      ],
      "execution_count": null,
      "outputs": [
        {
          "output_type": "stream",
          "text": [
            "(60000, 28, 28)\n",
            "(10000, 28, 28)\n"
          ],
          "name": "stdout"
        }
      ]
    },
    {
      "cell_type": "code",
      "metadata": {
        "id": "YgRDV81oeHwv"
      },
      "source": [
        ""
      ],
      "execution_count": null,
      "outputs": []
    },
    {
      "cell_type": "code",
      "metadata": {
        "id": "FUOCLyhneHz1",
        "outputId": "089b7e74-dae9-4a97-e14e-8fbb6e132a25",
        "colab": {
          "base_uri": "https://localhost:8080/",
          "height": 51
        }
      },
      "source": [
        "print(y_train_orig.shape)  \n",
        "print(y_test_orig.shape)  "
      ],
      "execution_count": null,
      "outputs": [
        {
          "output_type": "stream",
          "text": [
            "(60000,)\n",
            "(10000,)\n"
          ],
          "name": "stdout"
        }
      ]
    },
    {
      "cell_type": "code",
      "metadata": {
        "id": "RmgmOpiLeH2P",
        "outputId": "cccf97ef-45fc-4197-8515-097a3626dc9b",
        "colab": {
          "base_uri": "https://localhost:8080/",
          "height": 68
        }
      },
      "source": [
        "print('y classes')\n",
        "np.unique(y_train_orig, return_counts=True)"
      ],
      "execution_count": null,
      "outputs": [
        {
          "output_type": "stream",
          "text": [
            "y classes\n"
          ],
          "name": "stdout"
        },
        {
          "output_type": "execute_result",
          "data": {
            "text/plain": [
              "(array([0, 1, 2, 3, 4, 5, 6, 7, 8, 9], dtype=uint8),\n",
              " array([5923, 6742, 5958, 6131, 5842, 5421, 5918, 6265, 5851, 5949]))"
            ]
          },
          "metadata": {
            "tags": []
          },
          "execution_count": 66
        }
      ]
    },
    {
      "cell_type": "code",
      "metadata": {
        "id": "8DrNA3dKe4si",
        "outputId": "35f1c223-900f-432f-9b8b-6a877b1fec3f",
        "colab": {
          "base_uri": "https://localhost:8080/",
          "height": 68
        }
      },
      "source": [
        "print('y classes')\n",
        "np.unique(y_test_orig, return_counts=True)"
      ],
      "execution_count": null,
      "outputs": [
        {
          "output_type": "stream",
          "text": [
            "y classes\n"
          ],
          "name": "stdout"
        },
        {
          "output_type": "execute_result",
          "data": {
            "text/plain": [
              "(array([0, 1, 2, 3, 4, 5, 6, 7, 8, 9], dtype=uint8),\n",
              " array([ 980, 1135, 1032, 1010,  982,  892,  958, 1028,  974, 1009]))"
            ]
          },
          "metadata": {
            "tags": []
          },
          "execution_count": 67
        }
      ]
    },
    {
      "cell_type": "code",
      "metadata": {
        "id": "PZBtc2pQe4vG",
        "outputId": "6c5d22de-ff8d-40ee-9c76-3f945031d3cb",
        "colab": {
          "base_uri": "https://localhost:8080/",
          "height": 441
        }
      },
      "source": [
        "plt.figure(figsize=(6,6))\n",
        "\n",
        "for i in range(25):\n",
        "  plt.subplot(5, 5, i+1)\n",
        "  plt.xticks([])\n",
        "  plt.yticks([])\n",
        "  plt.grid(False)\n",
        "  plt.imshow(X_train_orig[i], cmap=plt.cm.binary)\n",
        "  plt.xlabel(y_train_orig[i])\n",
        "plt.tight_layout()\n"
      ],
      "execution_count": null,
      "outputs": [
        {
          "output_type": "display_data",
          "data": {
            "image/png": "[encoded data removed]",
            "text/plain": [
              "<Figure size 432x432 with 25 Axes>"
            ]
          },
          "metadata": {
            "tags": []
          }
        }
      ]
    },
    {
      "cell_type": "code",
      "metadata": {
        "id": "ZB0vYlGIe4xh"
      },
      "source": [
        "# X_train[1]\n",
        "transf = lambda x: (x/255).astype('float32')\n",
        "X_train = transf(X_train_orig)\n",
        "X_test = transf(X_test_orig)\n",
        "# X_train[1]"
      ],
      "execution_count": null,
      "outputs": []
    },
    {
      "cell_type": "code",
      "metadata": {
        "id": "Ylsse1NUe42d",
        "outputId": "d45c81cb-8dec-4baf-bcfb-e321614f8b35",
        "colab": {
          "base_uri": "https://localhost:8080/",
          "height": 51
        }
      },
      "source": [
        "X_train = X_train.reshape(X_train.shape[0], 28, 28,1)\n",
        "X_test = X_test.reshape(X_test.shape[0], 28, 28,1)\n",
        "print(X_train.shape)  \n",
        "print(X_test.shape) "
      ],
      "execution_count": null,
      "outputs": [
        {
          "output_type": "stream",
          "text": [
            "(60000, 28, 28, 1)\n",
            "(10000, 28, 28, 1)\n"
          ],
          "name": "stdout"
        }
      ]
    },
    {
      "cell_type": "code",
      "metadata": {
        "id": "zZ4JMjHte47g",
        "outputId": "f2c92dbb-e80f-4324-ca39-5a616ed3a165",
        "colab": {
          "base_uri": "https://localhost:8080/",
          "height": 34
        }
      },
      "source": [
        "class_names = np.unique(y_train_orig)\n",
        "class_names"
      ],
      "execution_count": null,
      "outputs": [
        {
          "output_type": "execute_result",
          "data": {
            "text/plain": [
              "array([0, 1, 2, 3, 4, 5, 6, 7, 8, 9], dtype=uint8)"
            ]
          },
          "metadata": {
            "tags": []
          },
          "execution_count": 71
        }
      ]
    },
    {
      "cell_type": "code",
      "metadata": {
        "id": "58iRsd2Ye499"
      },
      "source": [
        "# y_train_label = y_train"
      ],
      "execution_count": null,
      "outputs": []
    },
    {
      "cell_type": "code",
      "metadata": {
        "id": "dh8XPOIJe5As",
        "outputId": "219165ca-59b6-4901-8193-73955bba09e4",
        "colab": {
          "base_uri": "https://localhost:8080/",
          "height": 136
        }
      },
      "source": [
        "y_train = keras.utils.to_categorical(y_train_orig)\n",
        "y_test = keras.utils.to_categorical(y_test_orig)\n",
        "y_train"
      ],
      "execution_count": null,
      "outputs": [
        {
          "output_type": "execute_result",
          "data": {
            "text/plain": [
              "array([[0., 0., 0., ..., 0., 0., 0.],\n",
              "       [1., 0., 0., ..., 0., 0., 0.],\n",
              "       [0., 0., 0., ..., 0., 0., 0.],\n",
              "       ...,\n",
              "       [0., 0., 0., ..., 0., 0., 0.],\n",
              "       [0., 0., 0., ..., 0., 0., 0.],\n",
              "       [0., 0., 0., ..., 0., 1., 0.]], dtype=float32)"
            ]
          },
          "metadata": {
            "tags": []
          },
          "execution_count": 73
        }
      ]
    },
    {
      "cell_type": "code",
      "metadata": {
        "id": "9OSR_X36e5DQ"
      },
      "source": [
        ""
      ],
      "execution_count": null,
      "outputs": []
    },
    {
      "cell_type": "code",
      "metadata": {
        "id": "kfXSasUke5IX"
      },
      "source": [
        "# baseado na implementação da MiniVGGNet do Adrian Rosebroke\n",
        "# first CONV => RELU => CONV => RELU => POOL layer set\n",
        "model = keras.models.Sequential()\n",
        "model.add(keras.layers.Conv2D(32, 3, padding=\"same\", activation='relu',))\n",
        "model.add(keras.layers.BatchNormalization(axis=1))\n",
        "model.add(keras.layers.Conv2D(32, (3, 3), padding=\"same\", activation='relu'))\n",
        "model.add(keras.layers.BatchNormalization(axis=1))\n",
        "model.add(keras.layers.MaxPooling2D(pool_size=(2, 2)))\n",
        "model.add(keras.layers.Dropout(0.25))\n",
        "\n",
        "# second CONV => RELU => CONV => RELU => POOL layer set\n",
        "model.add(keras.layers.Conv2D(64, (3, 3), padding=\"same\", activation='relu'))\n",
        "model.add(keras.layers.BatchNormalization(axis=1))\n",
        "model.add(keras.layers.Conv2D(64, (3, 3), padding=\"same\", activation='relu'))\n",
        "model.add(keras.layers.BatchNormalization(axis=1))\n",
        "model.add(keras.layers.MaxPooling2D(pool_size=(2, 2)))\n",
        "model.add(keras.layers.Dropout(0.25))\n",
        "\n",
        "# first (and only) set of FC => RELU layers\n",
        "model.add(keras.layers.Flatten())\n",
        "model.add(keras.layers.Dense(512, activation='relu'))\n",
        "model.add(keras.layers.BatchNormalization())\n",
        "model.add(keras.layers.Dropout(0.5))\n",
        "\n",
        "# softmax classifier\n",
        "model.add(keras.layers.Dense(10, activation='softmax'))"
      ],
      "execution_count": null,
      "outputs": []
    },
    {
      "cell_type": "code",
      "metadata": {
        "id": "f3Uh1kbB0CVH",
        "outputId": "ff027f35-bfc7-4602-fa5c-763aa05da844",
        "colab": {
          "base_uri": "https://localhost:8080/",
          "height": 697
        }
      },
      "source": [
        "# model.compile(optimizer='adam', loss=\"sparse_categorical_crossentropy\", metrics=['accuracy'])\n",
        "model.compile(optimizer='adam', loss=\"categorical_crossentropy\", metrics=['accuracy'])\n",
        "\n",
        "# treinar o modelo e salvar as informações em history\n",
        "history = model.fit(X_train, y_train, epochs=10, validation_split=0.3)"
      ],
      "execution_count": null,
      "outputs": [
        {
          "output_type": "stream",
          "text": [
            "Epoch 1/20\n",
            "1313/1313 [==============================] - 9s 7ms/step - loss: 0.1904 - accuracy: 0.9427 - val_loss: 0.0712 - val_accuracy: 0.9782\n",
            "Epoch 2/20\n",
            "1313/1313 [==============================] - 8s 6ms/step - loss: 0.0734 - accuracy: 0.9781 - val_loss: 0.0525 - val_accuracy: 0.9850\n",
            "Epoch 3/20\n",
            "1313/1313 [==============================] - 8s 6ms/step - loss: 0.0635 - accuracy: 0.9806 - val_loss: 0.0427 - val_accuracy: 0.9871\n",
            "Epoch 4/20\n",
            "1313/1313 [==============================] - 8s 6ms/step - loss: 0.0549 - accuracy: 0.9830 - val_loss: 0.0374 - val_accuracy: 0.9888\n",
            "Epoch 5/20\n",
            "1313/1313 [==============================] - 8s 6ms/step - loss: 0.0442 - accuracy: 0.9866 - val_loss: 0.0391 - val_accuracy: 0.9886\n",
            "Epoch 6/20\n",
            "1313/1313 [==============================] - 8s 6ms/step - loss: 0.0464 - accuracy: 0.9851 - val_loss: 0.0375 - val_accuracy: 0.9896\n",
            "Epoch 7/20\n",
            "1313/1313 [==============================] - 8s 6ms/step - loss: 0.0385 - accuracy: 0.9883 - val_loss: 0.0342 - val_accuracy: 0.9903\n",
            "Epoch 8/20\n",
            "1313/1313 [==============================] - 8s 6ms/step - loss: 0.0348 - accuracy: 0.9895 - val_loss: 0.0366 - val_accuracy: 0.9903\n",
            "Epoch 9/20\n",
            "1313/1313 [==============================] - 8s 6ms/step - loss: 0.0323 - accuracy: 0.9899 - val_loss: 0.0356 - val_accuracy: 0.9912\n",
            "Epoch 10/20\n",
            "1313/1313 [==============================] - 8s 6ms/step - loss: 0.0323 - accuracy: 0.9898 - val_loss: 0.0328 - val_accuracy: 0.9913\n",
            "Epoch 11/20\n",
            "1313/1313 [==============================] - 8s 6ms/step - loss: 0.0258 - accuracy: 0.9915 - val_loss: 0.0431 - val_accuracy: 0.9903\n",
            "Epoch 12/20\n",
            "1313/1313 [==============================] - 8s 6ms/step - loss: 0.0259 - accuracy: 0.9917 - val_loss: 0.0322 - val_accuracy: 0.9925\n",
            "Epoch 13/20\n",
            "1313/1313 [==============================] - 8s 6ms/step - loss: 0.0242 - accuracy: 0.9924 - val_loss: 0.0302 - val_accuracy: 0.9926\n",
            "Epoch 14/20\n",
            "1313/1313 [==============================] - 8s 6ms/step - loss: 0.0211 - accuracy: 0.9932 - val_loss: 0.0285 - val_accuracy: 0.9929\n",
            "Epoch 15/20\n",
            "1313/1313 [==============================] - 9s 7ms/step - loss: 0.0226 - accuracy: 0.9930 - val_loss: 0.0370 - val_accuracy: 0.9912\n",
            "Epoch 16/20\n",
            "1313/1313 [==============================] - 8s 6ms/step - loss: 0.0207 - accuracy: 0.9937 - val_loss: 0.0290 - val_accuracy: 0.9931\n",
            "Epoch 17/20\n",
            "1313/1313 [==============================] - 8s 6ms/step - loss: 0.0159 - accuracy: 0.9949 - val_loss: 0.0387 - val_accuracy: 0.9922\n",
            "Epoch 18/20\n",
            "1313/1313 [==============================] - 8s 6ms/step - loss: 0.0199 - accuracy: 0.9934 - val_loss: 0.0404 - val_accuracy: 0.9915\n",
            "Epoch 19/20\n",
            "1313/1313 [==============================] - 8s 6ms/step - loss: 0.0177 - accuracy: 0.9944 - val_loss: 0.0325 - val_accuracy: 0.9931\n",
            "Epoch 20/20\n",
            "1313/1313 [==============================] - 8s 6ms/step - loss: 0.0163 - accuracy: 0.9951 - val_loss: 0.0362 - val_accuracy: 0.9917\n"
          ],
          "name": "stdout"
        }
      ]
    },
    {
      "cell_type": "code",
      "metadata": {
        "id": "sDAM3gqW0CY0"
      },
      "source": [
        "from sklearn.metrics import classification_report\n"
      ],
      "execution_count": null,
      "outputs": []
    },
    {
      "cell_type": "code",
      "metadata": {
        "id": "6J0NAFqp0Ced",
        "outputId": "4dcddcdc-cc7a-4613-a24e-3161a4f44775",
        "colab": {
          "base_uri": "https://localhost:8080/",
          "height": 306
        }
      },
      "source": [
        "y_hat = model.predict(X_test)\n",
        "y_hat_classes = np.argmax(y_hat, axis=1)\n",
        "print(classification_report(y_test_orig, y_hat_classes))"
      ],
      "execution_count": null,
      "outputs": [
        {
          "output_type": "stream",
          "text": [
            "              precision    recall  f1-score   support\n",
            "\n",
            "           0       0.99      1.00      1.00       980\n",
            "           1       0.99      1.00      1.00      1135\n",
            "           2       0.99      1.00      0.99      1032\n",
            "           3       0.99      1.00      1.00      1010\n",
            "           4       1.00      1.00      1.00       982\n",
            "           5       0.99      0.99      0.99       892\n",
            "           6       1.00      0.99      0.99       958\n",
            "           7       0.99      0.99      0.99      1028\n",
            "           8       1.00      0.99      0.99       974\n",
            "           9       0.99      0.99      0.99      1009\n",
            "\n",
            "    accuracy                           0.99     10000\n",
            "   macro avg       0.99      0.99      0.99     10000\n",
            "weighted avg       0.99      0.99      0.99     10000\n",
            "\n"
          ],
          "name": "stdout"
        }
      ]
    },
    {
      "cell_type": "code",
      "metadata": {
        "id": "Oeq1nEly0CkZ",
        "outputId": "105dd8ae-e463-4b17-b3a1-7f045aebf0a1",
        "colab": {
          "base_uri": "https://localhost:8080/",
          "height": 282
        }
      },
      "source": [
        "pd.DataFrame(history.history).plot()"
      ],
      "execution_count": null,
      "outputs": [
        {
          "output_type": "execute_result",
          "data": {
            "text/plain": [
              "<matplotlib.axes._subplots.AxesSubplot at 0x7f7a03dbbba8>"
            ]
          },
          "metadata": {
            "tags": []
          },
          "execution_count": 83
        },
        {
          "output_type": "display_data",
          "data": {
            "image/png": "[encoded data removed]",
            "text/plain": [
              "<Figure size 432x288 with 1 Axes>"
            ]
          },
          "metadata": {
            "tags": [],
            "needs_background": "light"
          }
        }
      ]
    },
    {
      "cell_type": "code",
      "metadata": {
        "id": "2MY6UhwS0Coa",
        "outputId": "532cfde0-79e1-4db2-c174-00b6d8b4605b",
        "colab": {
          "base_uri": "https://localhost:8080/",
          "height": 68
        }
      },
      "source": [
        "score = model.evaluate(X_test, y_test)\n",
        "\n",
        "# verificar o desempenho do modelo\n",
        "print('Loss: {:.4f}'.format(score[0]))\n",
        "print('Acurácia: {:.4f}'.format(score[1]))"
      ],
      "execution_count": null,
      "outputs": [
        {
          "output_type": "stream",
          "text": [
            "313/313 [==============================] - 1s 3ms/step - loss: 0.0253 - accuracy: 0.9936\n",
            "Loss: 0.0253\n",
            "Acurácia: 0.9936\n"
          ],
          "name": "stdout"
        }
      ]
    },
    {
      "cell_type": "code",
      "metadata": {
        "id": "lEtMB0YV0Cry"
      },
      "source": [
        ""
      ],
      "execution_count": null,
      "outputs": []
    },
    {
      "cell_type": "code",
      "metadata": {
        "id": "WZCtiz6R0CwH"
      },
      "source": [
        ""
      ],
      "execution_count": null,
      "outputs": []
    },
    {
      "cell_type": "code",
      "metadata": {
        "id": "pM9PmHPF0C0G"
      },
      "source": [
        ""
      ],
      "execution_count": null,
      "outputs": []
    },
    {
      "cell_type": "code",
      "metadata": {
        "id": "XPdvCi0P0C33"
      },
      "source": [
        ""
      ],
      "execution_count": null,
      "outputs": []
    },
    {
      "cell_type": "code",
      "metadata": {
        "id": "dRwCW6KJ0C7e"
      },
      "source": [
        ""
      ],
      "execution_count": null,
      "outputs": []
    },
    {
      "cell_type": "code",
      "metadata": {
        "id": "aTTZ7SkA0C-4"
      },
      "source": [
        ""
      ],
      "execution_count": null,
      "outputs": []
    },
    {
      "cell_type": "code",
      "metadata": {
        "id": "DPYKj02C0Cik"
      },
      "source": [
        ""
      ],
      "execution_count": null,
      "outputs": []
    },
    {
      "cell_type": "code",
      "metadata": {
        "id": "4ld5sVxf0CcH"
      },
      "source": [
        ""
      ],
      "execution_count": null,
      "outputs": []
    },
    {
      "cell_type": "code",
      "metadata": {
        "id": "u2BDkWWEe450"
      },
      "source": [
        ""
      ],
      "execution_count": null,
      "outputs": []
    },
    {
      "cell_type": "code",
      "metadata": {
        "id": "efXR_NEpe40l"
      },
      "source": [
        ""
      ],
      "execution_count": null,
      "outputs": []
    },
    {
      "cell_type": "code",
      "metadata": {
        "id": "AzLEZYQ11o5Q"
      },
      "source": [
        ""
      ],
      "execution_count": null,
      "outputs": []
    },
    {
      "cell_type": "code",
      "metadata": {
        "id": "drTeg3HJ1o8Z"
      },
      "source": [
        ""
      ],
      "execution_count": null,
      "outputs": []
    },
    {
      "cell_type": "code",
      "metadata": {
        "id": "Wxk3rZWr1o_d"
      },
      "source": [
        ""
      ],
      "execution_count": null,
      "outputs": []
    },
    {
      "cell_type": "code",
      "metadata": {
        "id": "1WzwO5sK1ovL"
      },
      "source": [
        ""
      ],
      "execution_count": null,
      "outputs": []
    }
  ]
}